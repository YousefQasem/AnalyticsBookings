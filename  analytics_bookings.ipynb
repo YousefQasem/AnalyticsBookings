{
 "cells": [
  {
   "cell_type": "markdown",
   "metadata": {
    "jupyter": {
     "outputs_hidden": true
    },
    "slideshow": {
     "slide_type": "slide"
    },
    "tags": []
   },
   "source": [
    "# Analytics_bookings\n",
    "- 28 Sept 2020"
   ]
  },
  {
   "cell_type": "markdown",
   "metadata": {
    "slideshow": {
     "slide_type": "slide"
    },
    "tags": [
     "NextPax",
     "Assessment"
    ]
   },
   "source": [
    "---\n",
    "# Assessment details\n",
    "You will find a SQL dump for a table including customer arrivals (reservations). Create and present a report with the following pieces of information:\n",
    "\n",
    "1. arrivals per week\n",
    "2. volume of arrivals per product market (where the accommodation is located)\n",
    "3. benchmark for the last year (if information is available)\n",
    "4. filters in the report for YTD (year to date), MTD (month to date) and / or selected period\n",
    "5. selection for provider (PMS), sales channel\n",
    "6. totals of gross revenue for every selection / filter\n",
    "---"
   ]
  },
  {
   "cell_type": "markdown",
   "metadata": {
    "slideshow": {
     "slide_type": "subslide"
    },
    "tags": []
   },
   "source": [
    "- Importing libraries & packages"
   ]
  },
  {
   "cell_type": "code",
   "execution_count": 1,
   "metadata": {
    "slideshow": {
     "slide_type": "fragment"
    },
    "tags": []
   },
   "outputs": [],
   "source": [
    "import pandas as pd\n",
    "\n",
    "import numpy as np\n",
    "\n",
    "import matplotlib.pyplot as plt\n",
    "import seaborn as sns\n",
    "\n",
    "from datetime import date"
   ]
  },
  {
   "cell_type": "markdown",
   "metadata": {
    "slideshow": {
     "slide_type": "fragment"
    },
    "tags": []
   },
   "source": [
    "- Invoking & reading the dataset"
   ]
  },
  {
   "cell_type": "code",
   "execution_count": 2,
   "metadata": {
    "slideshow": {
     "slide_type": "fragment"
    },
    "tags": []
   },
   "outputs": [],
   "source": [
    "df=pd.read_csv('analytics_bookings.csv')"
   ]
  },
  {
   "cell_type": "code",
   "execution_count": 3,
   "metadata": {
    "tags": []
   },
   "outputs": [
    {
     "data": {
      "text/html": [
       "<div>\n",
       "<style scoped>\n",
       "    .dataframe tbody tr th:only-of-type {\n",
       "        vertical-align: middle;\n",
       "    }\n",
       "\n",
       "    .dataframe tbody tr th {\n",
       "        vertical-align: top;\n",
       "    }\n",
       "\n",
       "    .dataframe thead th {\n",
       "        text-align: right;\n",
       "    }\n",
       "</style>\n",
       "<table border=\"1\" class=\"dataframe\">\n",
       "  <thead>\n",
       "    <tr style=\"text-align: right;\">\n",
       "      <th></th>\n",
       "      <th>booking_uuid</th>\n",
       "      <th>nextpax_house_id</th>\n",
       "      <th>country_code</th>\n",
       "      <th>arrival_date</th>\n",
       "      <th>departure_date</th>\n",
       "      <th>price</th>\n",
       "      <th>commission_base</th>\n",
       "      <th>rent_only</th>\n",
       "      <th>currency</th>\n",
       "      <th>state</th>\n",
       "      <th>adults</th>\n",
       "      <th>children</th>\n",
       "      <th>babies</th>\n",
       "      <th>pets</th>\n",
       "      <th>channel_id</th>\n",
       "      <th>created_at</th>\n",
       "    </tr>\n",
       "  </thead>\n",
       "  <tbody>\n",
       "    <tr>\n",
       "      <th>0</th>\n",
       "      <td>000013c2-3177-46d7-ae98-ff4538b097d6</td>\n",
       "      <td>6248120</td>\n",
       "      <td>US</td>\n",
       "      <td>17/9/2021</td>\n",
       "      <td>19/9/2021</td>\n",
       "      <td>700.35</td>\n",
       "      <td>0.0</td>\n",
       "      <td>700.35</td>\n",
       "      <td>USD</td>\n",
       "      <td>reservation</td>\n",
       "      <td>8</td>\n",
       "      <td>0</td>\n",
       "      <td>0</td>\n",
       "      <td>0</td>\n",
       "      <td>HOM143-VRBO</td>\n",
       "      <td>3/5/2021 04:16:36</td>\n",
       "    </tr>\n",
       "    <tr>\n",
       "      <th>1</th>\n",
       "      <td>0000264b-bc12-4fed-ada6-753c2c2ca2e6</td>\n",
       "      <td>60851394</td>\n",
       "      <td>GB</td>\n",
       "      <td>16/6/2020</td>\n",
       "      <td>20/6/2020</td>\n",
       "      <td>299.00</td>\n",
       "      <td>0.0</td>\n",
       "      <td>299.00</td>\n",
       "      <td>GBP</td>\n",
       "      <td>cancelled</td>\n",
       "      <td>2</td>\n",
       "      <td>0</td>\n",
       "      <td>0</td>\n",
       "      <td>0</td>\n",
       "      <td>BOO142</td>\n",
       "      <td>18/1/2020 14:52:17</td>\n",
       "    </tr>\n",
       "    <tr>\n",
       "      <th>2</th>\n",
       "      <td>00002c3f-e114-4092-94f5-5d8f92d94ba3</td>\n",
       "      <td>60879939</td>\n",
       "      <td>GB</td>\n",
       "      <td>14/8/2020</td>\n",
       "      <td>21/8/2020</td>\n",
       "      <td>945.00</td>\n",
       "      <td>0.0</td>\n",
       "      <td>945.00</td>\n",
       "      <td>GBP</td>\n",
       "      <td>reservation</td>\n",
       "      <td>2</td>\n",
       "      <td>2</td>\n",
       "      <td>0</td>\n",
       "      <td>0</td>\n",
       "      <td>BOO142</td>\n",
       "      <td>15/8/2019 09:08:38</td>\n",
       "    </tr>\n",
       "    <tr>\n",
       "      <th>3</th>\n",
       "      <td>00005a62-12e2-4227-a3c1-3347ef6ea709</td>\n",
       "      <td>6231475</td>\n",
       "      <td>NL</td>\n",
       "      <td>10/9/2021</td>\n",
       "      <td>13/9/2021</td>\n",
       "      <td>193.50</td>\n",
       "      <td>0.0</td>\n",
       "      <td>161.00</td>\n",
       "      <td>EUR</td>\n",
       "      <td>reservation</td>\n",
       "      <td>2</td>\n",
       "      <td>0</td>\n",
       "      <td>0</td>\n",
       "      <td>0</td>\n",
       "      <td>HOL303</td>\n",
       "      <td>11/8/2021 20:54:52</td>\n",
       "    </tr>\n",
       "    <tr>\n",
       "      <th>4</th>\n",
       "      <td>00007861-9d6e-46ed-b777-a569f1d2e698</td>\n",
       "      <td>62411641</td>\n",
       "      <td>US</td>\n",
       "      <td>7/2/2020</td>\n",
       "      <td>10/2/2020</td>\n",
       "      <td>293.21</td>\n",
       "      <td>0.0</td>\n",
       "      <td>293.21</td>\n",
       "      <td>USD</td>\n",
       "      <td>reservation</td>\n",
       "      <td>2</td>\n",
       "      <td>0</td>\n",
       "      <td>0</td>\n",
       "      <td>0</td>\n",
       "      <td>HOM143-VRBO</td>\n",
       "      <td>1/1/2020 23:04:30</td>\n",
       "    </tr>\n",
       "  </tbody>\n",
       "</table>\n",
       "</div>"
      ],
      "text/plain": [
       "                           booking_uuid  nextpax_house_id country_code  \\\n",
       "0  000013c2-3177-46d7-ae98-ff4538b097d6           6248120           US   \n",
       "1  0000264b-bc12-4fed-ada6-753c2c2ca2e6          60851394           GB   \n",
       "2  00002c3f-e114-4092-94f5-5d8f92d94ba3          60879939           GB   \n",
       "3  00005a62-12e2-4227-a3c1-3347ef6ea709           6231475           NL   \n",
       "4  00007861-9d6e-46ed-b777-a569f1d2e698          62411641           US   \n",
       "\n",
       "  arrival_date departure_date   price  commission_base  rent_only currency  \\\n",
       "0    17/9/2021      19/9/2021  700.35              0.0     700.35      USD   \n",
       "1    16/6/2020      20/6/2020  299.00              0.0     299.00      GBP   \n",
       "2    14/8/2020      21/8/2020  945.00              0.0     945.00      GBP   \n",
       "3    10/9/2021      13/9/2021  193.50              0.0     161.00      EUR   \n",
       "4     7/2/2020      10/2/2020  293.21              0.0     293.21      USD   \n",
       "\n",
       "         state  adults  children  babies  pets   channel_id  \\\n",
       "0  reservation       8         0       0     0  HOM143-VRBO   \n",
       "1    cancelled       2         0       0     0       BOO142   \n",
       "2  reservation       2         2       0     0       BOO142   \n",
       "3  reservation       2         0       0     0       HOL303   \n",
       "4  reservation       2         0       0     0  HOM143-VRBO   \n",
       "\n",
       "           created_at  \n",
       "0   3/5/2021 04:16:36  \n",
       "1  18/1/2020 14:52:17  \n",
       "2  15/8/2019 09:08:38  \n",
       "3  11/8/2021 20:54:52  \n",
       "4   1/1/2020 23:04:30  "
      ]
     },
     "execution_count": 3,
     "metadata": {},
     "output_type": "execute_result"
    }
   ],
   "source": [
    "df.head()"
   ]
  },
  {
   "cell_type": "code",
   "execution_count": 4,
   "metadata": {},
   "outputs": [],
   "source": [
    "# df.drop(columns=['channel_id'])"
   ]
  },
  {
   "cell_type": "code",
   "execution_count": 5,
   "metadata": {},
   "outputs": [],
   "source": [
    "# df.shape"
   ]
  },
  {
   "cell_type": "code",
   "execution_count": 6,
   "metadata": {},
   "outputs": [],
   "source": [
    "# df.columns"
   ]
  },
  {
   "cell_type": "code",
   "execution_count": 7,
   "metadata": {},
   "outputs": [],
   "source": [
    "# df.info"
   ]
  },
  {
   "cell_type": "code",
   "execution_count": 8,
   "metadata": {
    "slideshow": {
     "slide_type": "skip"
    },
    "tags": []
   },
   "outputs": [],
   "source": [
    "# df['country_code'].value_counts()"
   ]
  },
  {
   "cell_type": "markdown",
   "metadata": {
    "slideshow": {
     "slide_type": "slide"
    },
    "tags": []
   },
   "source": [
    "# Data Cleaning and Preparation"
   ]
  },
  {
   "cell_type": "markdown",
   "metadata": {
    "slideshow": {
     "slide_type": "subslide"
    },
    "tags": []
   },
   "source": [
    "- Checking and adjusting datatypes"
   ]
  },
  {
   "cell_type": "code",
   "execution_count": 9,
   "metadata": {
    "slideshow": {
     "slide_type": "fragment"
    },
    "tags": []
   },
   "outputs": [
    {
     "data": {
      "text/plain": [
       "booking_uuid         object\n",
       "nextpax_house_id      int64\n",
       "country_code         object\n",
       "arrival_date         object\n",
       "departure_date       object\n",
       "price               float64\n",
       "commission_base     float64\n",
       "rent_only           float64\n",
       "currency             object\n",
       "state                object\n",
       "adults                int64\n",
       "children              int64\n",
       "babies                int64\n",
       "pets                  int64\n",
       "channel_id           object\n",
       "created_at           object\n",
       "dtype: object"
      ]
     },
     "execution_count": 9,
     "metadata": {},
     "output_type": "execute_result"
    }
   ],
   "source": [
    "df.dtypes"
   ]
  },
  {
   "cell_type": "code",
   "execution_count": 10,
   "metadata": {
    "slideshow": {
     "slide_type": "subslide"
    },
    "tags": []
   },
   "outputs": [],
   "source": [
    "df['rent_only'] = pd.to_numeric(df[\"rent_only\"], downcast=\"float\")\n",
    "df['price'] = pd.to_numeric(df[\"price\"], downcast=\"float\")\n",
    "df['commission_base'] = pd.to_numeric(df[\"commission_base\"], downcast=\"float\")"
   ]
  },
  {
   "cell_type": "code",
   "execution_count": 11,
   "metadata": {
    "tags": []
   },
   "outputs": [],
   "source": [
    "df['arrival_date'] = pd.to_datetime(df['arrival_date'])\n",
    "df['departure_date'] = pd.to_datetime(df['departure_date'])\n",
    "df['created_at'] = pd.to_datetime(df['created_at'])"
   ]
  },
  {
   "cell_type": "code",
   "execution_count": 12,
   "metadata": {
    "slideshow": {
     "slide_type": "fragment"
    },
    "tags": []
   },
   "outputs": [
    {
     "data": {
      "text/plain": [
       "booking_uuid                object\n",
       "nextpax_house_id             int64\n",
       "country_code                object\n",
       "arrival_date        datetime64[ns]\n",
       "departure_date      datetime64[ns]\n",
       "price                      float32\n",
       "commission_base            float32\n",
       "rent_only                  float32\n",
       "currency                    object\n",
       "state                       object\n",
       "adults                       int64\n",
       "children                     int64\n",
       "babies                       int64\n",
       "pets                         int64\n",
       "channel_id                  object\n",
       "created_at          datetime64[ns]\n",
       "dtype: object"
      ]
     },
     "execution_count": 12,
     "metadata": {},
     "output_type": "execute_result"
    }
   ],
   "source": [
    "df.dtypes"
   ]
  },
  {
   "cell_type": "markdown",
   "metadata": {
    "slideshow": {
     "slide_type": "subslide"
    },
    "tags": []
   },
   "source": [
    "- Handling poor quality data"
   ]
  },
  {
   "cell_type": "markdown",
   "metadata": {
    "slideshow": {
     "slide_type": "fragment"
    },
    "tags": []
   },
   "source": [
    "    - Removing Missing and NA/NaN values"
   ]
  },
  {
   "cell_type": "markdown",
   "metadata": {
    "tags": []
   },
   "source": [
    "Pandas has three modes of dealing with missing data via calling $fillna()$:\n",
    "- *method='ffill'*: Ffill or forward-fill propagates the last observed non-null value forward until another non-null value is encountered\n",
    "- *method='bfill'*: Bfill or backward-fill propagates the first observed non-null value backward until another non-null value is met\n",
    "- *explicit value*: It is also possible to set an exact value to replace all missings. "
   ]
  },
  {
   "cell_type": "code",
   "execution_count": 13,
   "metadata": {
    "scrolled": true,
    "slideshow": {
     "slide_type": "fragment"
    },
    "tags": []
   },
   "outputs": [
    {
     "data": {
      "text/html": [
       "<div>\n",
       "<style scoped>\n",
       "    .dataframe tbody tr th:only-of-type {\n",
       "        vertical-align: middle;\n",
       "    }\n",
       "\n",
       "    .dataframe tbody tr th {\n",
       "        vertical-align: top;\n",
       "    }\n",
       "\n",
       "    .dataframe thead th {\n",
       "        text-align: right;\n",
       "    }\n",
       "</style>\n",
       "<table border=\"1\" class=\"dataframe\">\n",
       "  <thead>\n",
       "    <tr style=\"text-align: right;\">\n",
       "      <th></th>\n",
       "      <th>booking_uuid</th>\n",
       "      <th>nextpax_house_id</th>\n",
       "      <th>country_code</th>\n",
       "      <th>arrival_date</th>\n",
       "      <th>departure_date</th>\n",
       "      <th>price</th>\n",
       "      <th>commission_base</th>\n",
       "      <th>rent_only</th>\n",
       "      <th>currency</th>\n",
       "      <th>state</th>\n",
       "      <th>adults</th>\n",
       "      <th>children</th>\n",
       "      <th>babies</th>\n",
       "      <th>pets</th>\n",
       "      <th>channel_id</th>\n",
       "      <th>created_at</th>\n",
       "    </tr>\n",
       "  </thead>\n",
       "  <tbody>\n",
       "    <tr>\n",
       "      <th>0</th>\n",
       "      <td>000013c2-3177-46d7-ae98-ff4538b097d6</td>\n",
       "      <td>6248120</td>\n",
       "      <td>US</td>\n",
       "      <td>2021-09-17</td>\n",
       "      <td>2021-09-19</td>\n",
       "      <td>700.349976</td>\n",
       "      <td>0.0</td>\n",
       "      <td>700.349976</td>\n",
       "      <td>USD</td>\n",
       "      <td>reservation</td>\n",
       "      <td>8</td>\n",
       "      <td>0</td>\n",
       "      <td>0</td>\n",
       "      <td>0</td>\n",
       "      <td>HOM143-VRBO</td>\n",
       "      <td>2021-03-05 04:16:36</td>\n",
       "    </tr>\n",
       "    <tr>\n",
       "      <th>1</th>\n",
       "      <td>0000264b-bc12-4fed-ada6-753c2c2ca2e6</td>\n",
       "      <td>60851394</td>\n",
       "      <td>GB</td>\n",
       "      <td>2020-06-16</td>\n",
       "      <td>2020-06-20</td>\n",
       "      <td>299.000000</td>\n",
       "      <td>0.0</td>\n",
       "      <td>299.000000</td>\n",
       "      <td>GBP</td>\n",
       "      <td>cancelled</td>\n",
       "      <td>2</td>\n",
       "      <td>0</td>\n",
       "      <td>0</td>\n",
       "      <td>0</td>\n",
       "      <td>BOO142</td>\n",
       "      <td>2020-01-18 14:52:17</td>\n",
       "    </tr>\n",
       "    <tr>\n",
       "      <th>2</th>\n",
       "      <td>00002c3f-e114-4092-94f5-5d8f92d94ba3</td>\n",
       "      <td>60879939</td>\n",
       "      <td>GB</td>\n",
       "      <td>2020-08-14</td>\n",
       "      <td>2020-08-21</td>\n",
       "      <td>945.000000</td>\n",
       "      <td>0.0</td>\n",
       "      <td>945.000000</td>\n",
       "      <td>GBP</td>\n",
       "      <td>reservation</td>\n",
       "      <td>2</td>\n",
       "      <td>2</td>\n",
       "      <td>0</td>\n",
       "      <td>0</td>\n",
       "      <td>BOO142</td>\n",
       "      <td>2019-08-15 09:08:38</td>\n",
       "    </tr>\n",
       "    <tr>\n",
       "      <th>3</th>\n",
       "      <td>00005a62-12e2-4227-a3c1-3347ef6ea709</td>\n",
       "      <td>6231475</td>\n",
       "      <td>NL</td>\n",
       "      <td>2021-10-09</td>\n",
       "      <td>2021-09-13</td>\n",
       "      <td>193.500000</td>\n",
       "      <td>0.0</td>\n",
       "      <td>161.000000</td>\n",
       "      <td>EUR</td>\n",
       "      <td>reservation</td>\n",
       "      <td>2</td>\n",
       "      <td>0</td>\n",
       "      <td>0</td>\n",
       "      <td>0</td>\n",
       "      <td>HOL303</td>\n",
       "      <td>2021-11-08 20:54:52</td>\n",
       "    </tr>\n",
       "    <tr>\n",
       "      <th>4</th>\n",
       "      <td>00007861-9d6e-46ed-b777-a569f1d2e698</td>\n",
       "      <td>62411641</td>\n",
       "      <td>US</td>\n",
       "      <td>2020-07-02</td>\n",
       "      <td>2020-10-02</td>\n",
       "      <td>293.209991</td>\n",
       "      <td>0.0</td>\n",
       "      <td>293.209991</td>\n",
       "      <td>USD</td>\n",
       "      <td>reservation</td>\n",
       "      <td>2</td>\n",
       "      <td>0</td>\n",
       "      <td>0</td>\n",
       "      <td>0</td>\n",
       "      <td>HOM143-VRBO</td>\n",
       "      <td>2020-01-01 23:04:30</td>\n",
       "    </tr>\n",
       "  </tbody>\n",
       "</table>\n",
       "</div>"
      ],
      "text/plain": [
       "                           booking_uuid  nextpax_house_id country_code  \\\n",
       "0  000013c2-3177-46d7-ae98-ff4538b097d6           6248120           US   \n",
       "1  0000264b-bc12-4fed-ada6-753c2c2ca2e6          60851394           GB   \n",
       "2  00002c3f-e114-4092-94f5-5d8f92d94ba3          60879939           GB   \n",
       "3  00005a62-12e2-4227-a3c1-3347ef6ea709           6231475           NL   \n",
       "4  00007861-9d6e-46ed-b777-a569f1d2e698          62411641           US   \n",
       "\n",
       "  arrival_date departure_date       price  commission_base   rent_only  \\\n",
       "0   2021-09-17     2021-09-19  700.349976              0.0  700.349976   \n",
       "1   2020-06-16     2020-06-20  299.000000              0.0  299.000000   \n",
       "2   2020-08-14     2020-08-21  945.000000              0.0  945.000000   \n",
       "3   2021-10-09     2021-09-13  193.500000              0.0  161.000000   \n",
       "4   2020-07-02     2020-10-02  293.209991              0.0  293.209991   \n",
       "\n",
       "  currency        state  adults  children  babies  pets   channel_id  \\\n",
       "0      USD  reservation       8         0       0     0  HOM143-VRBO   \n",
       "1      GBP    cancelled       2         0       0     0       BOO142   \n",
       "2      GBP  reservation       2         2       0     0       BOO142   \n",
       "3      EUR  reservation       2         0       0     0       HOL303   \n",
       "4      USD  reservation       2         0       0     0  HOM143-VRBO   \n",
       "\n",
       "           created_at  \n",
       "0 2021-03-05 04:16:36  \n",
       "1 2020-01-18 14:52:17  \n",
       "2 2019-08-15 09:08:38  \n",
       "3 2021-11-08 20:54:52  \n",
       "4 2020-01-01 23:04:30  "
      ]
     },
     "execution_count": 13,
     "metadata": {},
     "output_type": "execute_result"
    }
   ],
   "source": [
    "df=df.fillna(method='ffill')\n",
    "df.head()"
   ]
  },
  {
   "cell_type": "code",
   "execution_count": 14,
   "metadata": {
    "slideshow": {
     "slide_type": "skip"
    },
    "tags": []
   },
   "outputs": [],
   "source": [
    "# search = (df['country_code']==0)\n",
    "# df.loc[df['country_code']==0]"
   ]
  },
  {
   "cell_type": "code",
   "execution_count": 15,
   "metadata": {
    "slideshow": {
     "slide_type": "skip"
    },
    "tags": []
   },
   "outputs": [],
   "source": [
    "# df = df.astype(object).where(pd.notnull(df),0)\n",
    "# search = (df['country_code']==0)\n",
    "# df.loc[df['country_code']==0]"
   ]
  },
  {
   "cell_type": "markdown",
   "metadata": {
    "slideshow": {
     "slide_type": "subslide"
    },
    "tags": []
   },
   "source": [
    "- Handling poor quality data\n",
    "    - Adjusting negetive values"
   ]
  },
  {
   "cell_type": "code",
   "execution_count": 16,
   "metadata": {
    "slideshow": {
     "slide_type": "fragment"
    },
    "tags": []
   },
   "outputs": [
    {
     "data": {
      "text/html": [
       "<div>\n",
       "<style scoped>\n",
       "    .dataframe tbody tr th:only-of-type {\n",
       "        vertical-align: middle;\n",
       "    }\n",
       "\n",
       "    .dataframe tbody tr th {\n",
       "        vertical-align: top;\n",
       "    }\n",
       "\n",
       "    .dataframe thead th {\n",
       "        text-align: right;\n",
       "    }\n",
       "</style>\n",
       "<table border=\"1\" class=\"dataframe\">\n",
       "  <thead>\n",
       "    <tr style=\"text-align: right;\">\n",
       "      <th></th>\n",
       "      <th>booking_uuid</th>\n",
       "      <th>nextpax_house_id</th>\n",
       "      <th>country_code</th>\n",
       "      <th>arrival_date</th>\n",
       "      <th>departure_date</th>\n",
       "      <th>price</th>\n",
       "      <th>commission_base</th>\n",
       "      <th>rent_only</th>\n",
       "      <th>currency</th>\n",
       "      <th>state</th>\n",
       "      <th>adults</th>\n",
       "      <th>children</th>\n",
       "      <th>babies</th>\n",
       "      <th>pets</th>\n",
       "      <th>channel_id</th>\n",
       "      <th>created_at</th>\n",
       "    </tr>\n",
       "  </thead>\n",
       "  <tbody>\n",
       "    <tr>\n",
       "      <th>97042</th>\n",
       "      <td>3d1bcf5a-890f-4451-9c06-57f5f7d74103</td>\n",
       "      <td>60884162</td>\n",
       "      <td>GB</td>\n",
       "      <td>2021-12-03</td>\n",
       "      <td>2021-03-15</td>\n",
       "      <td>469.0</td>\n",
       "      <td>0.0</td>\n",
       "      <td>-429.0</td>\n",
       "      <td>GBP</td>\n",
       "      <td>cancelled</td>\n",
       "      <td>1</td>\n",
       "      <td>0</td>\n",
       "      <td>0</td>\n",
       "      <td>0</td>\n",
       "      <td>HOM143</td>\n",
       "      <td>2020-02-07 21:01:00</td>\n",
       "    </tr>\n",
       "    <tr>\n",
       "      <th>326269</th>\n",
       "      <td>cdb171c1-dd5b-4c51-ad62-d82960f5efc6</td>\n",
       "      <td>608104354</td>\n",
       "      <td>GB</td>\n",
       "      <td>2020-12-21</td>\n",
       "      <td>2020-12-28</td>\n",
       "      <td>1118.0</td>\n",
       "      <td>0.0</td>\n",
       "      <td>-1045.0</td>\n",
       "      <td>GBP</td>\n",
       "      <td>reservation</td>\n",
       "      <td>1</td>\n",
       "      <td>0</td>\n",
       "      <td>0</td>\n",
       "      <td>0</td>\n",
       "      <td>HOM143</td>\n",
       "      <td>2020-09-15 16:03:00</td>\n",
       "    </tr>\n",
       "    <tr>\n",
       "      <th>392299</th>\n",
       "      <td>f71b358d-41aa-4bbf-8346-7592adf10fd7</td>\n",
       "      <td>60884406</td>\n",
       "      <td>GB</td>\n",
       "      <td>2020-12-14</td>\n",
       "      <td>2020-12-18</td>\n",
       "      <td>0.0</td>\n",
       "      <td>0.0</td>\n",
       "      <td>-345.0</td>\n",
       "      <td>GBP</td>\n",
       "      <td>reservation</td>\n",
       "      <td>1</td>\n",
       "      <td>0</td>\n",
       "      <td>0</td>\n",
       "      <td>0</td>\n",
       "      <td>HOM143</td>\n",
       "      <td>2020-08-26 16:16:00</td>\n",
       "    </tr>\n",
       "  </tbody>\n",
       "</table>\n",
       "</div>"
      ],
      "text/plain": [
       "                                booking_uuid  nextpax_house_id country_code  \\\n",
       "97042   3d1bcf5a-890f-4451-9c06-57f5f7d74103          60884162           GB   \n",
       "326269  cdb171c1-dd5b-4c51-ad62-d82960f5efc6         608104354           GB   \n",
       "392299  f71b358d-41aa-4bbf-8346-7592adf10fd7          60884406           GB   \n",
       "\n",
       "       arrival_date departure_date   price  commission_base  rent_only  \\\n",
       "97042    2021-12-03     2021-03-15   469.0              0.0     -429.0   \n",
       "326269   2020-12-21     2020-12-28  1118.0              0.0    -1045.0   \n",
       "392299   2020-12-14     2020-12-18     0.0              0.0     -345.0   \n",
       "\n",
       "       currency        state  adults  children  babies  pets channel_id  \\\n",
       "97042       GBP    cancelled       1         0       0     0     HOM143   \n",
       "326269      GBP  reservation       1         0       0     0     HOM143   \n",
       "392299      GBP  reservation       1         0       0     0     HOM143   \n",
       "\n",
       "                created_at  \n",
       "97042  2020-02-07 21:01:00  \n",
       "326269 2020-09-15 16:03:00  \n",
       "392299 2020-08-26 16:16:00  "
      ]
     },
     "execution_count": 16,
     "metadata": {},
     "output_type": "execute_result"
    }
   ],
   "source": [
    "nv = df['rent_only'] < 0\n",
    "df[nv]"
   ]
  },
  {
   "cell_type": "code",
   "execution_count": 17,
   "metadata": {
    "slideshow": {
     "slide_type": "subslide"
    },
    "tags": []
   },
   "outputs": [],
   "source": [
    "df['rent_only']=df['rent_only'].abs()"
   ]
  },
  {
   "cell_type": "code",
   "execution_count": 18,
   "metadata": {
    "tags": []
   },
   "outputs": [
    {
     "data": {
      "text/html": [
       "<div>\n",
       "<style scoped>\n",
       "    .dataframe tbody tr th:only-of-type {\n",
       "        vertical-align: middle;\n",
       "    }\n",
       "\n",
       "    .dataframe tbody tr th {\n",
       "        vertical-align: top;\n",
       "    }\n",
       "\n",
       "    .dataframe thead th {\n",
       "        text-align: right;\n",
       "    }\n",
       "</style>\n",
       "<table border=\"1\" class=\"dataframe\">\n",
       "  <thead>\n",
       "    <tr style=\"text-align: right;\">\n",
       "      <th></th>\n",
       "      <th>booking_uuid</th>\n",
       "      <th>nextpax_house_id</th>\n",
       "      <th>country_code</th>\n",
       "      <th>arrival_date</th>\n",
       "      <th>departure_date</th>\n",
       "      <th>price</th>\n",
       "      <th>commission_base</th>\n",
       "      <th>rent_only</th>\n",
       "      <th>currency</th>\n",
       "      <th>state</th>\n",
       "      <th>adults</th>\n",
       "      <th>children</th>\n",
       "      <th>babies</th>\n",
       "      <th>pets</th>\n",
       "      <th>channel_id</th>\n",
       "      <th>created_at</th>\n",
       "    </tr>\n",
       "  </thead>\n",
       "  <tbody>\n",
       "  </tbody>\n",
       "</table>\n",
       "</div>"
      ],
      "text/plain": [
       "Empty DataFrame\n",
       "Columns: [booking_uuid, nextpax_house_id, country_code, arrival_date, departure_date, price, commission_base, rent_only, currency, state, adults, children, babies, pets, channel_id, created_at]\n",
       "Index: []"
      ]
     },
     "execution_count": 18,
     "metadata": {},
     "output_type": "execute_result"
    }
   ],
   "source": [
    "nv = df['rent_only'] < 0\n",
    "df[nv]"
   ]
  },
  {
   "cell_type": "code",
   "execution_count": 19,
   "metadata": {
    "slideshow": {
     "slide_type": "fragment"
    },
    "tags": []
   },
   "outputs": [
    {
     "data": {
      "text/html": [
       "<div>\n",
       "<style scoped>\n",
       "    .dataframe tbody tr th:only-of-type {\n",
       "        vertical-align: middle;\n",
       "    }\n",
       "\n",
       "    .dataframe tbody tr th {\n",
       "        vertical-align: top;\n",
       "    }\n",
       "\n",
       "    .dataframe thead th {\n",
       "        text-align: right;\n",
       "    }\n",
       "</style>\n",
       "<table border=\"1\" class=\"dataframe\">\n",
       "  <thead>\n",
       "    <tr style=\"text-align: right;\">\n",
       "      <th></th>\n",
       "      <th>booking_uuid</th>\n",
       "      <th>nextpax_house_id</th>\n",
       "      <th>country_code</th>\n",
       "      <th>arrival_date</th>\n",
       "      <th>departure_date</th>\n",
       "      <th>price</th>\n",
       "      <th>commission_base</th>\n",
       "      <th>rent_only</th>\n",
       "      <th>currency</th>\n",
       "      <th>state</th>\n",
       "      <th>adults</th>\n",
       "      <th>children</th>\n",
       "      <th>babies</th>\n",
       "      <th>pets</th>\n",
       "      <th>channel_id</th>\n",
       "      <th>created_at</th>\n",
       "    </tr>\n",
       "  </thead>\n",
       "  <tbody>\n",
       "    <tr>\n",
       "      <th>171666</th>\n",
       "      <td>6c222eb0-e906-4679-89ba-445f250bfe48</td>\n",
       "      <td>6051629</td>\n",
       "      <td>NL</td>\n",
       "      <td>2021-05-26</td>\n",
       "      <td>2021-05-27</td>\n",
       "      <td>-16.18</td>\n",
       "      <td>0.0</td>\n",
       "      <td>66.419998</td>\n",
       "      <td>EUR</td>\n",
       "      <td>reservation</td>\n",
       "      <td>4</td>\n",
       "      <td>0</td>\n",
       "      <td>0</td>\n",
       "      <td>0</td>\n",
       "      <td>BOO142</td>\n",
       "      <td>2021-05-25 09:46:05</td>\n",
       "    </tr>\n",
       "  </tbody>\n",
       "</table>\n",
       "</div>"
      ],
      "text/plain": [
       "                                booking_uuid  nextpax_house_id country_code  \\\n",
       "171666  6c222eb0-e906-4679-89ba-445f250bfe48           6051629           NL   \n",
       "\n",
       "       arrival_date departure_date  price  commission_base  rent_only  \\\n",
       "171666   2021-05-26     2021-05-27 -16.18              0.0  66.419998   \n",
       "\n",
       "       currency        state  adults  children  babies  pets channel_id  \\\n",
       "171666      EUR  reservation       4         0       0     0     BOO142   \n",
       "\n",
       "                created_at  \n",
       "171666 2021-05-25 09:46:05  "
      ]
     },
     "execution_count": 19,
     "metadata": {},
     "output_type": "execute_result"
    }
   ],
   "source": [
    "nv = df['price'] < 0\n",
    "df[nv]"
   ]
  },
  {
   "cell_type": "code",
   "execution_count": 20,
   "metadata": {
    "tags": []
   },
   "outputs": [],
   "source": [
    "df['price']=df['price'].abs()"
   ]
  },
  {
   "cell_type": "code",
   "execution_count": 21,
   "metadata": {
    "tags": []
   },
   "outputs": [
    {
     "data": {
      "text/html": [
       "<div>\n",
       "<style scoped>\n",
       "    .dataframe tbody tr th:only-of-type {\n",
       "        vertical-align: middle;\n",
       "    }\n",
       "\n",
       "    .dataframe tbody tr th {\n",
       "        vertical-align: top;\n",
       "    }\n",
       "\n",
       "    .dataframe thead th {\n",
       "        text-align: right;\n",
       "    }\n",
       "</style>\n",
       "<table border=\"1\" class=\"dataframe\">\n",
       "  <thead>\n",
       "    <tr style=\"text-align: right;\">\n",
       "      <th></th>\n",
       "      <th>booking_uuid</th>\n",
       "      <th>nextpax_house_id</th>\n",
       "      <th>country_code</th>\n",
       "      <th>arrival_date</th>\n",
       "      <th>departure_date</th>\n",
       "      <th>price</th>\n",
       "      <th>commission_base</th>\n",
       "      <th>rent_only</th>\n",
       "      <th>currency</th>\n",
       "      <th>state</th>\n",
       "      <th>adults</th>\n",
       "      <th>children</th>\n",
       "      <th>babies</th>\n",
       "      <th>pets</th>\n",
       "      <th>channel_id</th>\n",
       "      <th>created_at</th>\n",
       "    </tr>\n",
       "  </thead>\n",
       "  <tbody>\n",
       "  </tbody>\n",
       "</table>\n",
       "</div>"
      ],
      "text/plain": [
       "Empty DataFrame\n",
       "Columns: [booking_uuid, nextpax_house_id, country_code, arrival_date, departure_date, price, commission_base, rent_only, currency, state, adults, children, babies, pets, channel_id, created_at]\n",
       "Index: []"
      ]
     },
     "execution_count": 21,
     "metadata": {},
     "output_type": "execute_result"
    }
   ],
   "source": [
    "nv = df['price'] < 0\n",
    "df[nv]"
   ]
  },
  {
   "cell_type": "markdown",
   "metadata": {
    "slideshow": {
     "slide_type": "subslide"
    },
    "tags": []
   },
   "source": [
    "- Splitting the channel_id ind column"
   ]
  },
  {
   "cell_type": "code",
   "execution_count": 22,
   "metadata": {
    "slideshow": {
     "slide_type": "fragment"
    },
    "tags": []
   },
   "outputs": [
    {
     "data": {
      "text/html": [
       "<div>\n",
       "<style scoped>\n",
       "    .dataframe tbody tr th:only-of-type {\n",
       "        vertical-align: middle;\n",
       "    }\n",
       "\n",
       "    .dataframe tbody tr th {\n",
       "        vertical-align: top;\n",
       "    }\n",
       "\n",
       "    .dataframe thead th {\n",
       "        text-align: right;\n",
       "    }\n",
       "</style>\n",
       "<table border=\"1\" class=\"dataframe\">\n",
       "  <thead>\n",
       "    <tr style=\"text-align: right;\">\n",
       "      <th></th>\n",
       "      <th>booking_uuid</th>\n",
       "      <th>nextpax_house_id</th>\n",
       "      <th>country_code</th>\n",
       "      <th>arrival_date</th>\n",
       "      <th>departure_date</th>\n",
       "      <th>price</th>\n",
       "      <th>commission_base</th>\n",
       "      <th>rent_only</th>\n",
       "      <th>currency</th>\n",
       "      <th>state</th>\n",
       "      <th>adults</th>\n",
       "      <th>children</th>\n",
       "      <th>babies</th>\n",
       "      <th>pets</th>\n",
       "      <th>channel_id</th>\n",
       "      <th>created_at</th>\n",
       "      <th>channel</th>\n",
       "      <th>sub_channel</th>\n",
       "    </tr>\n",
       "  </thead>\n",
       "  <tbody>\n",
       "    <tr>\n",
       "      <th>0</th>\n",
       "      <td>000013c2-3177-46d7-ae98-ff4538b097d6</td>\n",
       "      <td>6248120</td>\n",
       "      <td>US</td>\n",
       "      <td>2021-09-17</td>\n",
       "      <td>2021-09-19</td>\n",
       "      <td>700.349976</td>\n",
       "      <td>0.0</td>\n",
       "      <td>700.349976</td>\n",
       "      <td>USD</td>\n",
       "      <td>reservation</td>\n",
       "      <td>8</td>\n",
       "      <td>0</td>\n",
       "      <td>0</td>\n",
       "      <td>0</td>\n",
       "      <td>HOM143-VRBO</td>\n",
       "      <td>2021-03-05 04:16:36</td>\n",
       "      <td>HOM143</td>\n",
       "      <td>VRBO</td>\n",
       "    </tr>\n",
       "    <tr>\n",
       "      <th>1</th>\n",
       "      <td>0000264b-bc12-4fed-ada6-753c2c2ca2e6</td>\n",
       "      <td>60851394</td>\n",
       "      <td>GB</td>\n",
       "      <td>2020-06-16</td>\n",
       "      <td>2020-06-20</td>\n",
       "      <td>299.000000</td>\n",
       "      <td>0.0</td>\n",
       "      <td>299.000000</td>\n",
       "      <td>GBP</td>\n",
       "      <td>cancelled</td>\n",
       "      <td>2</td>\n",
       "      <td>0</td>\n",
       "      <td>0</td>\n",
       "      <td>0</td>\n",
       "      <td>BOO142</td>\n",
       "      <td>2020-01-18 14:52:17</td>\n",
       "      <td>BOO142</td>\n",
       "      <td>None</td>\n",
       "    </tr>\n",
       "    <tr>\n",
       "      <th>2</th>\n",
       "      <td>00002c3f-e114-4092-94f5-5d8f92d94ba3</td>\n",
       "      <td>60879939</td>\n",
       "      <td>GB</td>\n",
       "      <td>2020-08-14</td>\n",
       "      <td>2020-08-21</td>\n",
       "      <td>945.000000</td>\n",
       "      <td>0.0</td>\n",
       "      <td>945.000000</td>\n",
       "      <td>GBP</td>\n",
       "      <td>reservation</td>\n",
       "      <td>2</td>\n",
       "      <td>2</td>\n",
       "      <td>0</td>\n",
       "      <td>0</td>\n",
       "      <td>BOO142</td>\n",
       "      <td>2019-08-15 09:08:38</td>\n",
       "      <td>BOO142</td>\n",
       "      <td>None</td>\n",
       "    </tr>\n",
       "    <tr>\n",
       "      <th>3</th>\n",
       "      <td>00005a62-12e2-4227-a3c1-3347ef6ea709</td>\n",
       "      <td>6231475</td>\n",
       "      <td>NL</td>\n",
       "      <td>2021-10-09</td>\n",
       "      <td>2021-09-13</td>\n",
       "      <td>193.500000</td>\n",
       "      <td>0.0</td>\n",
       "      <td>161.000000</td>\n",
       "      <td>EUR</td>\n",
       "      <td>reservation</td>\n",
       "      <td>2</td>\n",
       "      <td>0</td>\n",
       "      <td>0</td>\n",
       "      <td>0</td>\n",
       "      <td>HOL303</td>\n",
       "      <td>2021-11-08 20:54:52</td>\n",
       "      <td>HOL303</td>\n",
       "      <td>None</td>\n",
       "    </tr>\n",
       "    <tr>\n",
       "      <th>4</th>\n",
       "      <td>00007861-9d6e-46ed-b777-a569f1d2e698</td>\n",
       "      <td>62411641</td>\n",
       "      <td>US</td>\n",
       "      <td>2020-07-02</td>\n",
       "      <td>2020-10-02</td>\n",
       "      <td>293.209991</td>\n",
       "      <td>0.0</td>\n",
       "      <td>293.209991</td>\n",
       "      <td>USD</td>\n",
       "      <td>reservation</td>\n",
       "      <td>2</td>\n",
       "      <td>0</td>\n",
       "      <td>0</td>\n",
       "      <td>0</td>\n",
       "      <td>HOM143-VRBO</td>\n",
       "      <td>2020-01-01 23:04:30</td>\n",
       "      <td>HOM143</td>\n",
       "      <td>VRBO</td>\n",
       "    </tr>\n",
       "  </tbody>\n",
       "</table>\n",
       "</div>"
      ],
      "text/plain": [
       "                           booking_uuid  nextpax_house_id country_code  \\\n",
       "0  000013c2-3177-46d7-ae98-ff4538b097d6           6248120           US   \n",
       "1  0000264b-bc12-4fed-ada6-753c2c2ca2e6          60851394           GB   \n",
       "2  00002c3f-e114-4092-94f5-5d8f92d94ba3          60879939           GB   \n",
       "3  00005a62-12e2-4227-a3c1-3347ef6ea709           6231475           NL   \n",
       "4  00007861-9d6e-46ed-b777-a569f1d2e698          62411641           US   \n",
       "\n",
       "  arrival_date departure_date       price  commission_base   rent_only  \\\n",
       "0   2021-09-17     2021-09-19  700.349976              0.0  700.349976   \n",
       "1   2020-06-16     2020-06-20  299.000000              0.0  299.000000   \n",
       "2   2020-08-14     2020-08-21  945.000000              0.0  945.000000   \n",
       "3   2021-10-09     2021-09-13  193.500000              0.0  161.000000   \n",
       "4   2020-07-02     2020-10-02  293.209991              0.0  293.209991   \n",
       "\n",
       "  currency        state  adults  children  babies  pets   channel_id  \\\n",
       "0      USD  reservation       8         0       0     0  HOM143-VRBO   \n",
       "1      GBP    cancelled       2         0       0     0       BOO142   \n",
       "2      GBP  reservation       2         2       0     0       BOO142   \n",
       "3      EUR  reservation       2         0       0     0       HOL303   \n",
       "4      USD  reservation       2         0       0     0  HOM143-VRBO   \n",
       "\n",
       "           created_at channel sub_channel  \n",
       "0 2021-03-05 04:16:36  HOM143        VRBO  \n",
       "1 2020-01-18 14:52:17  BOO142        None  \n",
       "2 2019-08-15 09:08:38  BOO142        None  \n",
       "3 2021-11-08 20:54:52  HOL303        None  \n",
       "4 2020-01-01 23:04:30  HOM143        VRBO  "
      ]
     },
     "execution_count": 22,
     "metadata": {},
     "output_type": "execute_result"
    }
   ],
   "source": [
    "split_channel=df['channel_id'].str.split('-',n=1,expand=True).rename(columns={0:'channel',1:'sub_channel'})\n",
    "df=pd.concat([df, split_channel], axis=1)\n",
    "df.head()"
   ]
  },
  {
   "cell_type": "code",
   "execution_count": 23,
   "metadata": {
    "slideshow": {
     "slide_type": "skip"
    },
    "tags": []
   },
   "outputs": [],
   "source": [
    "# df.channel_id.count(), df.channel.count(),df.sub_channel.count()"
   ]
  },
  {
   "cell_type": "code",
   "execution_count": 24,
   "metadata": {
    "slideshow": {
     "slide_type": "skip"
    },
    "tags": []
   },
   "outputs": [],
   "source": [
    "# df.channel_id.nunique(), df.channel.nunique(),df.sub_channel.nunique()"
   ]
  },
  {
   "cell_type": "markdown",
   "metadata": {
    "slideshow": {
     "slide_type": "subslide"
    },
    "tags": []
   },
   "source": [
    "- Setting the decimal places"
   ]
  },
  {
   "cell_type": "code",
   "execution_count": 25,
   "metadata": {
    "slideshow": {
     "slide_type": "fragment"
    },
    "tags": []
   },
   "outputs": [],
   "source": [
    "pd.options.display.float_format = \"{:,.2f}\".format"
   ]
  },
  {
   "cell_type": "markdown",
   "metadata": {
    "slideshow": {
     "slide_type": "subslide"
    },
    "tags": []
   },
   "source": [
    "- Currency Converter to Euro"
   ]
  },
  {
   "cell_type": "code",
   "execution_count": 26,
   "metadata": {
    "slideshow": {
     "slide_type": "skip"
    },
    "tags": []
   },
   "outputs": [],
   "source": [
    "# !pip install currencyconverter"
   ]
  },
  {
   "cell_type": "code",
   "execution_count": 27,
   "metadata": {},
   "outputs": [],
   "source": [
    "from currency_converter import CurrencyConverter\n",
    "c = CurrencyConverter()\n",
    "def curr(a,cur):\n",
    "    try:\n",
    "        return c.convert(a,cur,'EUR')\n",
    "    except:\n",
    "        return a\n",
    "df[\"rent_only in EUR\"]=df[['rent_only','currency']].apply(lambda x: curr(x.rent_only,x.currency), axis=1)"
   ]
  },
  {
   "cell_type": "code",
   "execution_count": 28,
   "metadata": {
    "slideshow": {
     "slide_type": "skip"
    },
    "tags": []
   },
   "outputs": [],
   "source": [
    "# round(curr(1,'USD'),2)"
   ]
  },
  {
   "cell_type": "code",
   "execution_count": 29,
   "metadata": {
    "slideshow": {
     "slide_type": "skip"
    },
    "tags": []
   },
   "outputs": [],
   "source": [
    "# round(curr(1,'GBP'),2)"
   ]
  },
  {
   "cell_type": "code",
   "execution_count": 30,
   "metadata": {
    "slideshow": {
     "slide_type": "skip"
    },
    "tags": []
   },
   "outputs": [],
   "source": [
    "# round(curr(1,'INR'),2)"
   ]
  },
  {
   "cell_type": "code",
   "execution_count": 31,
   "metadata": {
    "slideshow": {
     "slide_type": "skip"
    },
    "tags": []
   },
   "outputs": [],
   "source": [
    "# curr(1,'IDR')"
   ]
  },
  {
   "cell_type": "code",
   "execution_count": 32,
   "metadata": {
    "slideshow": {
     "slide_type": "skip"
    },
    "tags": []
   },
   "outputs": [],
   "source": [
    "# df.tail()"
   ]
  },
  {
   "cell_type": "code",
   "execution_count": 33,
   "metadata": {
    "slideshow": {
     "slide_type": "fragment"
    },
    "tags": []
   },
   "outputs": [
    {
     "data": {
      "text/html": [
       "<div>\n",
       "<style scoped>\n",
       "    .dataframe tbody tr th:only-of-type {\n",
       "        vertical-align: middle;\n",
       "    }\n",
       "\n",
       "    .dataframe tbody tr th {\n",
       "        vertical-align: top;\n",
       "    }\n",
       "\n",
       "    .dataframe thead th {\n",
       "        text-align: right;\n",
       "    }\n",
       "</style>\n",
       "<table border=\"1\" class=\"dataframe\">\n",
       "  <thead>\n",
       "    <tr style=\"text-align: right;\">\n",
       "      <th></th>\n",
       "      <th>booking_uuid</th>\n",
       "      <th>nextpax_house_id</th>\n",
       "      <th>country_code</th>\n",
       "      <th>arrival_date</th>\n",
       "      <th>departure_date</th>\n",
       "      <th>price</th>\n",
       "      <th>commission_base</th>\n",
       "      <th>rent_only</th>\n",
       "      <th>currency</th>\n",
       "      <th>state</th>\n",
       "      <th>adults</th>\n",
       "      <th>children</th>\n",
       "      <th>babies</th>\n",
       "      <th>pets</th>\n",
       "      <th>channel_id</th>\n",
       "      <th>created_at</th>\n",
       "      <th>channel</th>\n",
       "      <th>sub_channel</th>\n",
       "      <th>rent_only in EUR</th>\n",
       "    </tr>\n",
       "  </thead>\n",
       "  <tbody>\n",
       "    <tr>\n",
       "      <th>0</th>\n",
       "      <td>000013c2-3177-46d7-ae98-ff4538b097d6</td>\n",
       "      <td>6248120</td>\n",
       "      <td>US</td>\n",
       "      <td>2021-09-17</td>\n",
       "      <td>2021-09-19</td>\n",
       "      <td>700.35</td>\n",
       "      <td>0.00</td>\n",
       "      <td>700.35</td>\n",
       "      <td>USD</td>\n",
       "      <td>reservation</td>\n",
       "      <td>8</td>\n",
       "      <td>0</td>\n",
       "      <td>0</td>\n",
       "      <td>0</td>\n",
       "      <td>HOM143-VRBO</td>\n",
       "      <td>2021-03-05 04:16:36</td>\n",
       "      <td>HOM143</td>\n",
       "      <td>VRBO</td>\n",
       "      <td>598.79</td>\n",
       "    </tr>\n",
       "    <tr>\n",
       "      <th>1</th>\n",
       "      <td>0000264b-bc12-4fed-ada6-753c2c2ca2e6</td>\n",
       "      <td>60851394</td>\n",
       "      <td>GB</td>\n",
       "      <td>2020-06-16</td>\n",
       "      <td>2020-06-20</td>\n",
       "      <td>299.00</td>\n",
       "      <td>0.00</td>\n",
       "      <td>299.00</td>\n",
       "      <td>GBP</td>\n",
       "      <td>cancelled</td>\n",
       "      <td>2</td>\n",
       "      <td>0</td>\n",
       "      <td>0</td>\n",
       "      <td>0</td>\n",
       "      <td>BOO142</td>\n",
       "      <td>2020-01-18 14:52:17</td>\n",
       "      <td>BOO142</td>\n",
       "      <td>None</td>\n",
       "      <td>349.61</td>\n",
       "    </tr>\n",
       "    <tr>\n",
       "      <th>2</th>\n",
       "      <td>00002c3f-e114-4092-94f5-5d8f92d94ba3</td>\n",
       "      <td>60879939</td>\n",
       "      <td>GB</td>\n",
       "      <td>2020-08-14</td>\n",
       "      <td>2020-08-21</td>\n",
       "      <td>945.00</td>\n",
       "      <td>0.00</td>\n",
       "      <td>945.00</td>\n",
       "      <td>GBP</td>\n",
       "      <td>reservation</td>\n",
       "      <td>2</td>\n",
       "      <td>2</td>\n",
       "      <td>0</td>\n",
       "      <td>0</td>\n",
       "      <td>BOO142</td>\n",
       "      <td>2019-08-15 09:08:38</td>\n",
       "      <td>BOO142</td>\n",
       "      <td>None</td>\n",
       "      <td>1,104.97</td>\n",
       "    </tr>\n",
       "    <tr>\n",
       "      <th>3</th>\n",
       "      <td>00005a62-12e2-4227-a3c1-3347ef6ea709</td>\n",
       "      <td>6231475</td>\n",
       "      <td>NL</td>\n",
       "      <td>2021-10-09</td>\n",
       "      <td>2021-09-13</td>\n",
       "      <td>193.50</td>\n",
       "      <td>0.00</td>\n",
       "      <td>161.00</td>\n",
       "      <td>EUR</td>\n",
       "      <td>reservation</td>\n",
       "      <td>2</td>\n",
       "      <td>0</td>\n",
       "      <td>0</td>\n",
       "      <td>0</td>\n",
       "      <td>HOL303</td>\n",
       "      <td>2021-11-08 20:54:52</td>\n",
       "      <td>HOL303</td>\n",
       "      <td>None</td>\n",
       "      <td>161.00</td>\n",
       "    </tr>\n",
       "    <tr>\n",
       "      <th>4</th>\n",
       "      <td>00007861-9d6e-46ed-b777-a569f1d2e698</td>\n",
       "      <td>62411641</td>\n",
       "      <td>US</td>\n",
       "      <td>2020-07-02</td>\n",
       "      <td>2020-10-02</td>\n",
       "      <td>293.21</td>\n",
       "      <td>0.00</td>\n",
       "      <td>293.21</td>\n",
       "      <td>USD</td>\n",
       "      <td>reservation</td>\n",
       "      <td>2</td>\n",
       "      <td>0</td>\n",
       "      <td>0</td>\n",
       "      <td>0</td>\n",
       "      <td>HOM143-VRBO</td>\n",
       "      <td>2020-01-01 23:04:30</td>\n",
       "      <td>HOM143</td>\n",
       "      <td>VRBO</td>\n",
       "      <td>250.69</td>\n",
       "    </tr>\n",
       "  </tbody>\n",
       "</table>\n",
       "</div>"
      ],
      "text/plain": [
       "                           booking_uuid  nextpax_house_id country_code  \\\n",
       "0  000013c2-3177-46d7-ae98-ff4538b097d6           6248120           US   \n",
       "1  0000264b-bc12-4fed-ada6-753c2c2ca2e6          60851394           GB   \n",
       "2  00002c3f-e114-4092-94f5-5d8f92d94ba3          60879939           GB   \n",
       "3  00005a62-12e2-4227-a3c1-3347ef6ea709           6231475           NL   \n",
       "4  00007861-9d6e-46ed-b777-a569f1d2e698          62411641           US   \n",
       "\n",
       "  arrival_date departure_date  price  commission_base  rent_only currency  \\\n",
       "0   2021-09-17     2021-09-19 700.35             0.00     700.35      USD   \n",
       "1   2020-06-16     2020-06-20 299.00             0.00     299.00      GBP   \n",
       "2   2020-08-14     2020-08-21 945.00             0.00     945.00      GBP   \n",
       "3   2021-10-09     2021-09-13 193.50             0.00     161.00      EUR   \n",
       "4   2020-07-02     2020-10-02 293.21             0.00     293.21      USD   \n",
       "\n",
       "         state  adults  children  babies  pets   channel_id  \\\n",
       "0  reservation       8         0       0     0  HOM143-VRBO   \n",
       "1    cancelled       2         0       0     0       BOO142   \n",
       "2  reservation       2         2       0     0       BOO142   \n",
       "3  reservation       2         0       0     0       HOL303   \n",
       "4  reservation       2         0       0     0  HOM143-VRBO   \n",
       "\n",
       "           created_at channel sub_channel  rent_only in EUR  \n",
       "0 2021-03-05 04:16:36  HOM143        VRBO            598.79  \n",
       "1 2020-01-18 14:52:17  BOO142        None            349.61  \n",
       "2 2019-08-15 09:08:38  BOO142        None          1,104.97  \n",
       "3 2021-11-08 20:54:52  HOL303        None            161.00  \n",
       "4 2020-01-01 23:04:30  HOM143        VRBO            250.69  "
      ]
     },
     "execution_count": 33,
     "metadata": {},
     "output_type": "execute_result"
    }
   ],
   "source": [
    "df.head()"
   ]
  },
  {
   "cell_type": "code",
   "execution_count": 34,
   "metadata": {
    "slideshow": {
     "slide_type": "skip"
    },
    "tags": []
   },
   "outputs": [],
   "source": [
    "# round(wf['rent_only in EUR'].sum(), 2)"
   ]
  },
  {
   "cell_type": "markdown",
   "metadata": {
    "slideshow": {
     "slide_type": "subslide"
    },
    "tags": []
   },
   "source": [
    "- Data Distribution"
   ]
  },
  {
   "cell_type": "code",
   "execution_count": 35,
   "metadata": {
    "slideshow": {
     "slide_type": "fragment"
    },
    "tags": []
   },
   "outputs": [
    {
     "data": {
      "text/plain": [
       "<AxesSubplot:xlabel='rent_only'>"
      ]
     },
     "execution_count": 35,
     "metadata": {},
     "output_type": "execute_result"
    },
    {
     "data": {
      "image/png": "[encoded data removed]",
      "text/plain": [
       "<Figure size 432x288 with 1 Axes>"
      ]
     },
     "metadata": {
      "needs_background": "light"
     },
     "output_type": "display_data"
    }
   ],
   "source": [
    "sns.boxplot(x=df['rent_only'])"
   ]
  },
  {
   "cell_type": "code",
   "execution_count": 36,
   "metadata": {
    "slideshow": {
     "slide_type": "subslide"
    },
    "tags": []
   },
   "outputs": [
    {
     "data": {
      "text/plain": [
       "<AxesSubplot:xlabel='price'>"
      ]
     },
     "execution_count": 36,
     "metadata": {},
     "output_type": "execute_result"
    },
    {
     "data": {
      "image/png": "[encoded data removed]",
      "text/plain": [
       "<Figure size 432x288 with 1 Axes>"
      ]
     },
     "metadata": {
      "needs_background": "light"
     },
     "output_type": "display_data"
    }
   ],
   "source": [
    "sns.boxplot(x=df['price'])"
   ]
  },
  {
   "cell_type": "code",
   "execution_count": 37,
   "metadata": {
    "slideshow": {
     "slide_type": "skip"
    },
    "tags": []
   },
   "outputs": [],
   "source": [
    "# sns.boxplot(x=df['commission_base'])"
   ]
  },
  {
   "cell_type": "code",
   "execution_count": 38,
   "metadata": {
    "slideshow": {
     "slide_type": "subslide"
    },
    "tags": []
   },
   "outputs": [
    {
     "data": {
      "image/png": "[encoded data removed]",
      "text/plain": [
       "<Figure size 1152x576 with 1 Axes>"
      ]
     },
     "metadata": {
      "needs_background": "light"
     },
     "output_type": "display_data"
    }
   ],
   "source": [
    "fig, ax = plt.subplots(figsize=(16,8))\n",
    "ax.scatter(df['price'], df['rent_only'])\n",
    "ax.set_xlabel('Proportion of rent_only')\n",
    "ax.set_ylabel('Value of the Price')\n",
    "plt.show()"
   ]
  },
  {
   "cell_type": "markdown",
   "metadata": {
    "slideshow": {
     "slide_type": "subslide"
    },
    "tags": []
   },
   "source": [
    "- Saving a copy of the cleaned data"
   ]
  },
  {
   "cell_type": "code",
   "execution_count": 39,
   "metadata": {
    "tags": []
   },
   "outputs": [],
   "source": [
    "# df.to_csv('NextPax_cleaned.csv')"
   ]
  },
  {
   "cell_type": "markdown",
   "metadata": {
    "slideshow": {
     "slide_type": "slide"
    },
    "tags": []
   },
   "source": [
    "---\n",
    "# Arrivals per week\n",
    "---"
   ]
  },
  {
   "cell_type": "markdown",
   "metadata": {
    "slideshow": {
     "slide_type": "subslide"
    },
    "tags": []
   },
   "source": [
    "Creating a new dataframe in which the analysis is applied without effecting the cleaned dataset"
   ]
  },
  {
   "cell_type": "code",
   "execution_count": 40,
   "metadata": {
    "tags": []
   },
   "outputs": [
    {
     "data": {
      "text/html": [
       "<div>\n",
       "<style scoped>\n",
       "    .dataframe tbody tr th:only-of-type {\n",
       "        vertical-align: middle;\n",
       "    }\n",
       "\n",
       "    .dataframe tbody tr th {\n",
       "        vertical-align: top;\n",
       "    }\n",
       "\n",
       "    .dataframe thead th {\n",
       "        text-align: right;\n",
       "    }\n",
       "</style>\n",
       "<table border=\"1\" class=\"dataframe\">\n",
       "  <thead>\n",
       "    <tr style=\"text-align: right;\">\n",
       "      <th></th>\n",
       "      <th>booking_uuid</th>\n",
       "      <th>nextpax_house_id</th>\n",
       "      <th>country_code</th>\n",
       "      <th>arrival_date</th>\n",
       "      <th>departure_date</th>\n",
       "      <th>price</th>\n",
       "      <th>commission_base</th>\n",
       "      <th>rent_only</th>\n",
       "      <th>currency</th>\n",
       "      <th>state</th>\n",
       "      <th>adults</th>\n",
       "      <th>children</th>\n",
       "      <th>babies</th>\n",
       "      <th>pets</th>\n",
       "      <th>channel_id</th>\n",
       "      <th>created_at</th>\n",
       "      <th>channel</th>\n",
       "      <th>sub_channel</th>\n",
       "      <th>rent_only in EUR</th>\n",
       "    </tr>\n",
       "  </thead>\n",
       "  <tbody>\n",
       "    <tr>\n",
       "      <th>0</th>\n",
       "      <td>000013c2-3177-46d7-ae98-ff4538b097d6</td>\n",
       "      <td>6248120</td>\n",
       "      <td>US</td>\n",
       "      <td>2021-09-17</td>\n",
       "      <td>2021-09-19</td>\n",
       "      <td>700.35</td>\n",
       "      <td>0.00</td>\n",
       "      <td>700.35</td>\n",
       "      <td>USD</td>\n",
       "      <td>reservation</td>\n",
       "      <td>8</td>\n",
       "      <td>0</td>\n",
       "      <td>0</td>\n",
       "      <td>0</td>\n",
       "      <td>HOM143-VRBO</td>\n",
       "      <td>2021-03-05 04:16:36</td>\n",
       "      <td>HOM143</td>\n",
       "      <td>VRBO</td>\n",
       "      <td>598.79</td>\n",
       "    </tr>\n",
       "    <tr>\n",
       "      <th>1</th>\n",
       "      <td>0000264b-bc12-4fed-ada6-753c2c2ca2e6</td>\n",
       "      <td>60851394</td>\n",
       "      <td>GB</td>\n",
       "      <td>2020-06-16</td>\n",
       "      <td>2020-06-20</td>\n",
       "      <td>299.00</td>\n",
       "      <td>0.00</td>\n",
       "      <td>299.00</td>\n",
       "      <td>GBP</td>\n",
       "      <td>cancelled</td>\n",
       "      <td>2</td>\n",
       "      <td>0</td>\n",
       "      <td>0</td>\n",
       "      <td>0</td>\n",
       "      <td>BOO142</td>\n",
       "      <td>2020-01-18 14:52:17</td>\n",
       "      <td>BOO142</td>\n",
       "      <td>None</td>\n",
       "      <td>349.61</td>\n",
       "    </tr>\n",
       "    <tr>\n",
       "      <th>2</th>\n",
       "      <td>00002c3f-e114-4092-94f5-5d8f92d94ba3</td>\n",
       "      <td>60879939</td>\n",
       "      <td>GB</td>\n",
       "      <td>2020-08-14</td>\n",
       "      <td>2020-08-21</td>\n",
       "      <td>945.00</td>\n",
       "      <td>0.00</td>\n",
       "      <td>945.00</td>\n",
       "      <td>GBP</td>\n",
       "      <td>reservation</td>\n",
       "      <td>2</td>\n",
       "      <td>2</td>\n",
       "      <td>0</td>\n",
       "      <td>0</td>\n",
       "      <td>BOO142</td>\n",
       "      <td>2019-08-15 09:08:38</td>\n",
       "      <td>BOO142</td>\n",
       "      <td>None</td>\n",
       "      <td>1,104.97</td>\n",
       "    </tr>\n",
       "    <tr>\n",
       "      <th>3</th>\n",
       "      <td>00005a62-12e2-4227-a3c1-3347ef6ea709</td>\n",
       "      <td>6231475</td>\n",
       "      <td>NL</td>\n",
       "      <td>2021-10-09</td>\n",
       "      <td>2021-09-13</td>\n",
       "      <td>193.50</td>\n",
       "      <td>0.00</td>\n",
       "      <td>161.00</td>\n",
       "      <td>EUR</td>\n",
       "      <td>reservation</td>\n",
       "      <td>2</td>\n",
       "      <td>0</td>\n",
       "      <td>0</td>\n",
       "      <td>0</td>\n",
       "      <td>HOL303</td>\n",
       "      <td>2021-11-08 20:54:52</td>\n",
       "      <td>HOL303</td>\n",
       "      <td>None</td>\n",
       "      <td>161.00</td>\n",
       "    </tr>\n",
       "    <tr>\n",
       "      <th>4</th>\n",
       "      <td>00007861-9d6e-46ed-b777-a569f1d2e698</td>\n",
       "      <td>62411641</td>\n",
       "      <td>US</td>\n",
       "      <td>2020-07-02</td>\n",
       "      <td>2020-10-02</td>\n",
       "      <td>293.21</td>\n",
       "      <td>0.00</td>\n",
       "      <td>293.21</td>\n",
       "      <td>USD</td>\n",
       "      <td>reservation</td>\n",
       "      <td>2</td>\n",
       "      <td>0</td>\n",
       "      <td>0</td>\n",
       "      <td>0</td>\n",
       "      <td>HOM143-VRBO</td>\n",
       "      <td>2020-01-01 23:04:30</td>\n",
       "      <td>HOM143</td>\n",
       "      <td>VRBO</td>\n",
       "      <td>250.69</td>\n",
       "    </tr>\n",
       "  </tbody>\n",
       "</table>\n",
       "</div>"
      ],
      "text/plain": [
       "                           booking_uuid  nextpax_house_id country_code  \\\n",
       "0  000013c2-3177-46d7-ae98-ff4538b097d6           6248120           US   \n",
       "1  0000264b-bc12-4fed-ada6-753c2c2ca2e6          60851394           GB   \n",
       "2  00002c3f-e114-4092-94f5-5d8f92d94ba3          60879939           GB   \n",
       "3  00005a62-12e2-4227-a3c1-3347ef6ea709           6231475           NL   \n",
       "4  00007861-9d6e-46ed-b777-a569f1d2e698          62411641           US   \n",
       "\n",
       "  arrival_date departure_date  price  commission_base  rent_only currency  \\\n",
       "0   2021-09-17     2021-09-19 700.35             0.00     700.35      USD   \n",
       "1   2020-06-16     2020-06-20 299.00             0.00     299.00      GBP   \n",
       "2   2020-08-14     2020-08-21 945.00             0.00     945.00      GBP   \n",
       "3   2021-10-09     2021-09-13 193.50             0.00     161.00      EUR   \n",
       "4   2020-07-02     2020-10-02 293.21             0.00     293.21      USD   \n",
       "\n",
       "         state  adults  children  babies  pets   channel_id  \\\n",
       "0  reservation       8         0       0     0  HOM143-VRBO   \n",
       "1    cancelled       2         0       0     0       BOO142   \n",
       "2  reservation       2         2       0     0       BOO142   \n",
       "3  reservation       2         0       0     0       HOL303   \n",
       "4  reservation       2         0       0     0  HOM143-VRBO   \n",
       "\n",
       "           created_at channel sub_channel  rent_only in EUR  \n",
       "0 2021-03-05 04:16:36  HOM143        VRBO            598.79  \n",
       "1 2020-01-18 14:52:17  BOO142        None            349.61  \n",
       "2 2019-08-15 09:08:38  BOO142        None          1,104.97  \n",
       "3 2021-11-08 20:54:52  HOL303        None            161.00  \n",
       "4 2020-01-01 23:04:30  HOM143        VRBO            250.69  "
      ]
     },
     "execution_count": 40,
     "metadata": {},
     "output_type": "execute_result"
    }
   ],
   "source": [
    "wf = df\n",
    "wf.head()"
   ]
  },
  {
   "cell_type": "markdown",
   "metadata": {
    "slideshow": {
     "slide_type": "subslide"
    },
    "tags": []
   },
   "source": [
    "- No *passengers* per week for all year"
   ]
  },
  {
   "cell_type": "code",
   "execution_count": 41,
   "metadata": {
    "scrolled": true,
    "slideshow": {
     "slide_type": "fragment"
    },
    "tags": []
   },
   "outputs": [
    {
     "data": {
      "text/html": [
       "<div>\n",
       "<style scoped>\n",
       "    .dataframe tbody tr th:only-of-type {\n",
       "        vertical-align: middle;\n",
       "    }\n",
       "\n",
       "    .dataframe tbody tr th {\n",
       "        vertical-align: top;\n",
       "    }\n",
       "\n",
       "    .dataframe thead th {\n",
       "        text-align: right;\n",
       "    }\n",
       "</style>\n",
       "<table border=\"1\" class=\"dataframe\">\n",
       "  <thead>\n",
       "    <tr style=\"text-align: right;\">\n",
       "      <th></th>\n",
       "      <th>booking_uuid</th>\n",
       "      <th>nextpax_house_id</th>\n",
       "      <th>country_code</th>\n",
       "      <th>arrival_date</th>\n",
       "      <th>departure_date</th>\n",
       "      <th>price</th>\n",
       "      <th>commission_base</th>\n",
       "      <th>rent_only</th>\n",
       "      <th>currency</th>\n",
       "      <th>state</th>\n",
       "      <th>adults</th>\n",
       "      <th>children</th>\n",
       "      <th>babies</th>\n",
       "      <th>pets</th>\n",
       "      <th>channel_id</th>\n",
       "      <th>created_at</th>\n",
       "      <th>channel</th>\n",
       "      <th>sub_channel</th>\n",
       "      <th>rent_only in EUR</th>\n",
       "      <th>no_Passengers</th>\n",
       "    </tr>\n",
       "  </thead>\n",
       "  <tbody>\n",
       "    <tr>\n",
       "      <th>0</th>\n",
       "      <td>000013c2-3177-46d7-ae98-ff4538b097d6</td>\n",
       "      <td>6248120</td>\n",
       "      <td>US</td>\n",
       "      <td>2021-09-17</td>\n",
       "      <td>2021-09-19</td>\n",
       "      <td>700.35</td>\n",
       "      <td>0.00</td>\n",
       "      <td>700.35</td>\n",
       "      <td>USD</td>\n",
       "      <td>reservation</td>\n",
       "      <td>8</td>\n",
       "      <td>0</td>\n",
       "      <td>0</td>\n",
       "      <td>0</td>\n",
       "      <td>HOM143-VRBO</td>\n",
       "      <td>2021-03-05 04:16:36</td>\n",
       "      <td>HOM143</td>\n",
       "      <td>VRBO</td>\n",
       "      <td>598.79</td>\n",
       "      <td>8</td>\n",
       "    </tr>\n",
       "    <tr>\n",
       "      <th>1</th>\n",
       "      <td>0000264b-bc12-4fed-ada6-753c2c2ca2e6</td>\n",
       "      <td>60851394</td>\n",
       "      <td>GB</td>\n",
       "      <td>2020-06-16</td>\n",
       "      <td>2020-06-20</td>\n",
       "      <td>299.00</td>\n",
       "      <td>0.00</td>\n",
       "      <td>299.00</td>\n",
       "      <td>GBP</td>\n",
       "      <td>cancelled</td>\n",
       "      <td>2</td>\n",
       "      <td>0</td>\n",
       "      <td>0</td>\n",
       "      <td>0</td>\n",
       "      <td>BOO142</td>\n",
       "      <td>2020-01-18 14:52:17</td>\n",
       "      <td>BOO142</td>\n",
       "      <td>None</td>\n",
       "      <td>349.61</td>\n",
       "      <td>2</td>\n",
       "    </tr>\n",
       "    <tr>\n",
       "      <th>2</th>\n",
       "      <td>00002c3f-e114-4092-94f5-5d8f92d94ba3</td>\n",
       "      <td>60879939</td>\n",
       "      <td>GB</td>\n",
       "      <td>2020-08-14</td>\n",
       "      <td>2020-08-21</td>\n",
       "      <td>945.00</td>\n",
       "      <td>0.00</td>\n",
       "      <td>945.00</td>\n",
       "      <td>GBP</td>\n",
       "      <td>reservation</td>\n",
       "      <td>2</td>\n",
       "      <td>2</td>\n",
       "      <td>0</td>\n",
       "      <td>0</td>\n",
       "      <td>BOO142</td>\n",
       "      <td>2019-08-15 09:08:38</td>\n",
       "      <td>BOO142</td>\n",
       "      <td>None</td>\n",
       "      <td>1,104.97</td>\n",
       "      <td>4</td>\n",
       "    </tr>\n",
       "  </tbody>\n",
       "</table>\n",
       "</div>"
      ],
      "text/plain": [
       "                           booking_uuid  nextpax_house_id country_code  \\\n",
       "0  000013c2-3177-46d7-ae98-ff4538b097d6           6248120           US   \n",
       "1  0000264b-bc12-4fed-ada6-753c2c2ca2e6          60851394           GB   \n",
       "2  00002c3f-e114-4092-94f5-5d8f92d94ba3          60879939           GB   \n",
       "\n",
       "  arrival_date departure_date  price  commission_base  rent_only currency  \\\n",
       "0   2021-09-17     2021-09-19 700.35             0.00     700.35      USD   \n",
       "1   2020-06-16     2020-06-20 299.00             0.00     299.00      GBP   \n",
       "2   2020-08-14     2020-08-21 945.00             0.00     945.00      GBP   \n",
       "\n",
       "         state  adults  children  babies  pets   channel_id  \\\n",
       "0  reservation       8         0       0     0  HOM143-VRBO   \n",
       "1    cancelled       2         0       0     0       BOO142   \n",
       "2  reservation       2         2       0     0       BOO142   \n",
       "\n",
       "           created_at channel sub_channel  rent_only in EUR  no_Passengers  \n",
       "0 2021-03-05 04:16:36  HOM143        VRBO            598.79              8  \n",
       "1 2020-01-18 14:52:17  BOO142        None            349.61              2  \n",
       "2 2019-08-15 09:08:38  BOO142        None          1,104.97              4  "
      ]
     },
     "execution_count": 41,
     "metadata": {},
     "output_type": "execute_result"
    }
   ],
   "source": [
    "sum_column = wf[\"adults\"] + wf[\"children\"] + wf[\"babies\"]\n",
    "wf[\"no_Passengers\"] = sum_column\n",
    "wf.head(3)"
   ]
  },
  {
   "cell_type": "code",
   "execution_count": 42,
   "metadata": {
    "slideshow": {
     "slide_type": "fragment"
    },
    "tags": []
   },
   "outputs": [
    {
     "data": {
      "text/html": [
       "<div>\n",
       "<style scoped>\n",
       "    .dataframe tbody tr th:only-of-type {\n",
       "        vertical-align: middle;\n",
       "    }\n",
       "\n",
       "    .dataframe tbody tr th {\n",
       "        vertical-align: top;\n",
       "    }\n",
       "\n",
       "    .dataframe thead th {\n",
       "        text-align: right;\n",
       "    }\n",
       "</style>\n",
       "<table border=\"1\" class=\"dataframe\">\n",
       "  <thead>\n",
       "    <tr style=\"text-align: right;\">\n",
       "      <th></th>\n",
       "      <th>booking_uuid</th>\n",
       "      <th>nextpax_house_id</th>\n",
       "      <th>country_code</th>\n",
       "      <th>arrival_date</th>\n",
       "      <th>departure_date</th>\n",
       "      <th>price</th>\n",
       "      <th>commission_base</th>\n",
       "      <th>rent_only</th>\n",
       "      <th>currency</th>\n",
       "      <th>state</th>\n",
       "      <th>...</th>\n",
       "      <th>babies</th>\n",
       "      <th>pets</th>\n",
       "      <th>channel_id</th>\n",
       "      <th>created_at</th>\n",
       "      <th>channel</th>\n",
       "      <th>sub_channel</th>\n",
       "      <th>rent_only in EUR</th>\n",
       "      <th>no_Passengers</th>\n",
       "      <th>week</th>\n",
       "      <th>year</th>\n",
       "    </tr>\n",
       "  </thead>\n",
       "  <tbody>\n",
       "    <tr>\n",
       "      <th>0</th>\n",
       "      <td>000013c2-3177-46d7-ae98-ff4538b097d6</td>\n",
       "      <td>6248120</td>\n",
       "      <td>US</td>\n",
       "      <td>2021-09-17</td>\n",
       "      <td>2021-09-19</td>\n",
       "      <td>700.35</td>\n",
       "      <td>0.00</td>\n",
       "      <td>700.35</td>\n",
       "      <td>USD</td>\n",
       "      <td>reservation</td>\n",
       "      <td>...</td>\n",
       "      <td>0</td>\n",
       "      <td>0</td>\n",
       "      <td>HOM143-VRBO</td>\n",
       "      <td>2021-03-05 04:16:36</td>\n",
       "      <td>HOM143</td>\n",
       "      <td>VRBO</td>\n",
       "      <td>598.79</td>\n",
       "      <td>8</td>\n",
       "      <td>37</td>\n",
       "      <td>2021</td>\n",
       "    </tr>\n",
       "    <tr>\n",
       "      <th>1</th>\n",
       "      <td>0000264b-bc12-4fed-ada6-753c2c2ca2e6</td>\n",
       "      <td>60851394</td>\n",
       "      <td>GB</td>\n",
       "      <td>2020-06-16</td>\n",
       "      <td>2020-06-20</td>\n",
       "      <td>299.00</td>\n",
       "      <td>0.00</td>\n",
       "      <td>299.00</td>\n",
       "      <td>GBP</td>\n",
       "      <td>cancelled</td>\n",
       "      <td>...</td>\n",
       "      <td>0</td>\n",
       "      <td>0</td>\n",
       "      <td>BOO142</td>\n",
       "      <td>2020-01-18 14:52:17</td>\n",
       "      <td>BOO142</td>\n",
       "      <td>None</td>\n",
       "      <td>349.61</td>\n",
       "      <td>2</td>\n",
       "      <td>25</td>\n",
       "      <td>2020</td>\n",
       "    </tr>\n",
       "    <tr>\n",
       "      <th>2</th>\n",
       "      <td>00002c3f-e114-4092-94f5-5d8f92d94ba3</td>\n",
       "      <td>60879939</td>\n",
       "      <td>GB</td>\n",
       "      <td>2020-08-14</td>\n",
       "      <td>2020-08-21</td>\n",
       "      <td>945.00</td>\n",
       "      <td>0.00</td>\n",
       "      <td>945.00</td>\n",
       "      <td>GBP</td>\n",
       "      <td>reservation</td>\n",
       "      <td>...</td>\n",
       "      <td>0</td>\n",
       "      <td>0</td>\n",
       "      <td>BOO142</td>\n",
       "      <td>2019-08-15 09:08:38</td>\n",
       "      <td>BOO142</td>\n",
       "      <td>None</td>\n",
       "      <td>1,104.97</td>\n",
       "      <td>4</td>\n",
       "      <td>33</td>\n",
       "      <td>2020</td>\n",
       "    </tr>\n",
       "  </tbody>\n",
       "</table>\n",
       "<p>3 rows × 22 columns</p>\n",
       "</div>"
      ],
      "text/plain": [
       "                           booking_uuid  nextpax_house_id country_code  \\\n",
       "0  000013c2-3177-46d7-ae98-ff4538b097d6           6248120           US   \n",
       "1  0000264b-bc12-4fed-ada6-753c2c2ca2e6          60851394           GB   \n",
       "2  00002c3f-e114-4092-94f5-5d8f92d94ba3          60879939           GB   \n",
       "\n",
       "  arrival_date departure_date  price  commission_base  rent_only currency  \\\n",
       "0   2021-09-17     2021-09-19 700.35             0.00     700.35      USD   \n",
       "1   2020-06-16     2020-06-20 299.00             0.00     299.00      GBP   \n",
       "2   2020-08-14     2020-08-21 945.00             0.00     945.00      GBP   \n",
       "\n",
       "         state  ...  babies  pets   channel_id          created_at channel  \\\n",
       "0  reservation  ...       0     0  HOM143-VRBO 2021-03-05 04:16:36  HOM143   \n",
       "1    cancelled  ...       0     0       BOO142 2020-01-18 14:52:17  BOO142   \n",
       "2  reservation  ...       0     0       BOO142 2019-08-15 09:08:38  BOO142   \n",
       "\n",
       "  sub_channel rent_only in EUR no_Passengers  week  year  \n",
       "0        VRBO           598.79             8    37  2021  \n",
       "1        None           349.61             2    25  2020  \n",
       "2        None         1,104.97             4    33  2020  \n",
       "\n",
       "[3 rows x 22 columns]"
      ]
     },
     "execution_count": 42,
     "metadata": {},
     "output_type": "execute_result"
    }
   ],
   "source": [
    "wf['week'] = wf['arrival_date'].apply(lambda x: \"%d\" % (x.week))\n",
    "wf['year'] = wf['arrival_date'].apply(lambda x: \"%d\" % (x.year))\n",
    "wf.head(3)"
   ]
  },
  {
   "cell_type": "markdown",
   "metadata": {
    "slideshow": {
     "slide_type": "subslide"
    },
    "tags": []
   },
   "source": [
    "- No *passengers* per week for all year"
   ]
  },
  {
   "cell_type": "code",
   "execution_count": 43,
   "metadata": {
    "tags": []
   },
   "outputs": [
    {
     "data": {
      "text/html": [
       "<div>\n",
       "<style scoped>\n",
       "    .dataframe tbody tr th:only-of-type {\n",
       "        vertical-align: middle;\n",
       "    }\n",
       "\n",
       "    .dataframe tbody tr th {\n",
       "        vertical-align: top;\n",
       "    }\n",
       "\n",
       "    .dataframe thead th {\n",
       "        text-align: right;\n",
       "    }\n",
       "</style>\n",
       "<table border=\"1\" class=\"dataframe\">\n",
       "  <thead>\n",
       "    <tr style=\"text-align: right;\">\n",
       "      <th></th>\n",
       "      <th>year</th>\n",
       "      <th>week</th>\n",
       "      <th>Passengers_w</th>\n",
       "    </tr>\n",
       "  </thead>\n",
       "  <tbody>\n",
       "    <tr>\n",
       "      <th>0</th>\n",
       "      <td>2020</td>\n",
       "      <td>1</td>\n",
       "      <td>9748</td>\n",
       "    </tr>\n",
       "    <tr>\n",
       "      <th>11</th>\n",
       "      <td>2020</td>\n",
       "      <td>2</td>\n",
       "      <td>24943</td>\n",
       "    </tr>\n",
       "    <tr>\n",
       "      <th>22</th>\n",
       "      <td>2020</td>\n",
       "      <td>3</td>\n",
       "      <td>9165</td>\n",
       "    </tr>\n",
       "    <tr>\n",
       "      <th>33</th>\n",
       "      <td>2020</td>\n",
       "      <td>4</td>\n",
       "      <td>9290</td>\n",
       "    </tr>\n",
       "    <tr>\n",
       "      <th>44</th>\n",
       "      <td>2020</td>\n",
       "      <td>5</td>\n",
       "      <td>10148</td>\n",
       "    </tr>\n",
       "    <tr>\n",
       "      <th>...</th>\n",
       "      <td>...</td>\n",
       "      <td>...</td>\n",
       "      <td>...</td>\n",
       "    </tr>\n",
       "    <tr>\n",
       "      <th>159</th>\n",
       "      <td>2023</td>\n",
       "      <td>52</td>\n",
       "      <td>9</td>\n",
       "    </tr>\n",
       "    <tr>\n",
       "      <th>162</th>\n",
       "      <td>2024</td>\n",
       "      <td>52</td>\n",
       "      <td>4</td>\n",
       "    </tr>\n",
       "    <tr>\n",
       "      <th>163</th>\n",
       "      <td>2025</td>\n",
       "      <td>12</td>\n",
       "      <td>8</td>\n",
       "    </tr>\n",
       "    <tr>\n",
       "      <th>164</th>\n",
       "      <td>2025</td>\n",
       "      <td>13</td>\n",
       "      <td>1</td>\n",
       "    </tr>\n",
       "    <tr>\n",
       "      <th>165</th>\n",
       "      <td>2026</td>\n",
       "      <td>35</td>\n",
       "      <td>4</td>\n",
       "    </tr>\n",
       "  </tbody>\n",
       "</table>\n",
       "<p>166 rows × 3 columns</p>\n",
       "</div>"
      ],
      "text/plain": [
       "     year  week  Passengers_w\n",
       "0    2020     1          9748\n",
       "11   2020     2         24943\n",
       "22   2020     3          9165\n",
       "33   2020     4          9290\n",
       "44   2020     5         10148\n",
       "..    ...   ...           ...\n",
       "159  2023    52             9\n",
       "162  2024    52             4\n",
       "163  2025    12             8\n",
       "164  2025    13             1\n",
       "165  2026    35             4\n",
       "\n",
       "[166 rows x 3 columns]"
      ]
     },
     "execution_count": 43,
     "metadata": {},
     "output_type": "execute_result"
    }
   ],
   "source": [
    "pass_agr=pd.DataFrame(wf.groupby(['year','week'])['no_Passengers'].sum().reset_index(name=\"Passengers_w\"))\n",
    "pass_agr['week']=pass_agr['week'].astype(int)\n",
    "pass_agr=pass_agr.sort_values(by=['year','week'],ascending=True)\n",
    "pass_agr"
   ]
  },
  {
   "cell_type": "markdown",
   "metadata": {
    "slideshow": {
     "slide_type": "subslide"
    },
    "tags": []
   },
   "source": [
    "- No *passengers* per week for all year (table)"
   ]
  },
  {
   "cell_type": "code",
   "execution_count": 44,
   "metadata": {
    "tags": []
   },
   "outputs": [
    {
     "data": {
      "text/html": [
       "<div>\n",
       "<style scoped>\n",
       "    .dataframe tbody tr th:only-of-type {\n",
       "        vertical-align: middle;\n",
       "    }\n",
       "\n",
       "    .dataframe tbody tr th {\n",
       "        vertical-align: top;\n",
       "    }\n",
       "\n",
       "    .dataframe thead th {\n",
       "        text-align: right;\n",
       "    }\n",
       "</style>\n",
       "<table border=\"1\" class=\"dataframe\">\n",
       "  <thead>\n",
       "    <tr style=\"text-align: right;\">\n",
       "      <th>week</th>\n",
       "      <th>1</th>\n",
       "      <th>2</th>\n",
       "      <th>3</th>\n",
       "      <th>4</th>\n",
       "      <th>5</th>\n",
       "      <th>6</th>\n",
       "      <th>7</th>\n",
       "      <th>8</th>\n",
       "      <th>9</th>\n",
       "      <th>10</th>\n",
       "      <th>...</th>\n",
       "      <th>44</th>\n",
       "      <th>45</th>\n",
       "      <th>46</th>\n",
       "      <th>47</th>\n",
       "      <th>48</th>\n",
       "      <th>49</th>\n",
       "      <th>50</th>\n",
       "      <th>51</th>\n",
       "      <th>52</th>\n",
       "      <th>53</th>\n",
       "    </tr>\n",
       "    <tr>\n",
       "      <th>year</th>\n",
       "      <th></th>\n",
       "      <th></th>\n",
       "      <th></th>\n",
       "      <th></th>\n",
       "      <th></th>\n",
       "      <th></th>\n",
       "      <th></th>\n",
       "      <th></th>\n",
       "      <th></th>\n",
       "      <th></th>\n",
       "      <th></th>\n",
       "      <th></th>\n",
       "      <th></th>\n",
       "      <th></th>\n",
       "      <th></th>\n",
       "      <th></th>\n",
       "      <th></th>\n",
       "      <th></th>\n",
       "      <th></th>\n",
       "      <th></th>\n",
       "      <th></th>\n",
       "    </tr>\n",
       "  </thead>\n",
       "  <tbody>\n",
       "    <tr>\n",
       "      <th>2020</th>\n",
       "      <td>9,748.00</td>\n",
       "      <td>24,943.00</td>\n",
       "      <td>9,165.00</td>\n",
       "      <td>9,290.00</td>\n",
       "      <td>10,148.00</td>\n",
       "      <td>13,425.00</td>\n",
       "      <td>20,205.00</td>\n",
       "      <td>18,453.00</td>\n",
       "      <td>15,137.00</td>\n",
       "      <td>21,435.00</td>\n",
       "      <td>...</td>\n",
       "      <td>7,111.00</td>\n",
       "      <td>22,443.00</td>\n",
       "      <td>13,803.00</td>\n",
       "      <td>5,963.00</td>\n",
       "      <td>8,098.00</td>\n",
       "      <td>10,160.00</td>\n",
       "      <td>13,051.00</td>\n",
       "      <td>6,419.00</td>\n",
       "      <td>14,301.00</td>\n",
       "      <td>10,838.00</td>\n",
       "    </tr>\n",
       "    <tr>\n",
       "      <th>2021</th>\n",
       "      <td>21,466.00</td>\n",
       "      <td>4,763.00</td>\n",
       "      <td>3,594.00</td>\n",
       "      <td>4,429.00</td>\n",
       "      <td>17,229.00</td>\n",
       "      <td>13,902.00</td>\n",
       "      <td>8,542.00</td>\n",
       "      <td>8,096.00</td>\n",
       "      <td>20,457.00</td>\n",
       "      <td>16,408.00</td>\n",
       "      <td>...</td>\n",
       "      <td>13,065.00</td>\n",
       "      <td>9,673.00</td>\n",
       "      <td>3,554.00</td>\n",
       "      <td>4,451.00</td>\n",
       "      <td>9,827.00</td>\n",
       "      <td>17,582.00</td>\n",
       "      <td>2,692.00</td>\n",
       "      <td>5,837.00</td>\n",
       "      <td>4,448.00</td>\n",
       "      <td>2,035.00</td>\n",
       "    </tr>\n",
       "    <tr>\n",
       "      <th>2022</th>\n",
       "      <td>730.00</td>\n",
       "      <td>983.00</td>\n",
       "      <td>797.00</td>\n",
       "      <td>990.00</td>\n",
       "      <td>937.00</td>\n",
       "      <td>623.00</td>\n",
       "      <td>1,796.00</td>\n",
       "      <td>1,002.00</td>\n",
       "      <td>888.00</td>\n",
       "      <td>463.00</td>\n",
       "      <td>...</td>\n",
       "      <td>1,129.00</td>\n",
       "      <td>140.00</td>\n",
       "      <td>0</td>\n",
       "      <td>4.00</td>\n",
       "      <td>1,044.00</td>\n",
       "      <td>283.00</td>\n",
       "      <td>0</td>\n",
       "      <td>4.00</td>\n",
       "      <td>385.00</td>\n",
       "      <td>0</td>\n",
       "    </tr>\n",
       "    <tr>\n",
       "      <th>2023</th>\n",
       "      <td>5.00</td>\n",
       "      <td>2.00</td>\n",
       "      <td>0</td>\n",
       "      <td>0</td>\n",
       "      <td>0</td>\n",
       "      <td>0</td>\n",
       "      <td>2.00</td>\n",
       "      <td>0</td>\n",
       "      <td>4.00</td>\n",
       "      <td>0</td>\n",
       "      <td>...</td>\n",
       "      <td>0</td>\n",
       "      <td>0</td>\n",
       "      <td>0</td>\n",
       "      <td>0</td>\n",
       "      <td>0</td>\n",
       "      <td>0</td>\n",
       "      <td>0</td>\n",
       "      <td>0</td>\n",
       "      <td>9.00</td>\n",
       "      <td>0</td>\n",
       "    </tr>\n",
       "    <tr>\n",
       "      <th>2024</th>\n",
       "      <td>0</td>\n",
       "      <td>0</td>\n",
       "      <td>0</td>\n",
       "      <td>0</td>\n",
       "      <td>0</td>\n",
       "      <td>0</td>\n",
       "      <td>0</td>\n",
       "      <td>0</td>\n",
       "      <td>0</td>\n",
       "      <td>0</td>\n",
       "      <td>...</td>\n",
       "      <td>0</td>\n",
       "      <td>0</td>\n",
       "      <td>0</td>\n",
       "      <td>0</td>\n",
       "      <td>0</td>\n",
       "      <td>0</td>\n",
       "      <td>0</td>\n",
       "      <td>0</td>\n",
       "      <td>4.00</td>\n",
       "      <td>0</td>\n",
       "    </tr>\n",
       "    <tr>\n",
       "      <th>2025</th>\n",
       "      <td>0</td>\n",
       "      <td>0</td>\n",
       "      <td>0</td>\n",
       "      <td>0</td>\n",
       "      <td>0</td>\n",
       "      <td>0</td>\n",
       "      <td>0</td>\n",
       "      <td>0</td>\n",
       "      <td>0</td>\n",
       "      <td>0</td>\n",
       "      <td>...</td>\n",
       "      <td>0</td>\n",
       "      <td>0</td>\n",
       "      <td>0</td>\n",
       "      <td>0</td>\n",
       "      <td>0</td>\n",
       "      <td>0</td>\n",
       "      <td>0</td>\n",
       "      <td>0</td>\n",
       "      <td>0</td>\n",
       "      <td>0</td>\n",
       "    </tr>\n",
       "    <tr>\n",
       "      <th>2026</th>\n",
       "      <td>0</td>\n",
       "      <td>0</td>\n",
       "      <td>0</td>\n",
       "      <td>0</td>\n",
       "      <td>0</td>\n",
       "      <td>0</td>\n",
       "      <td>0</td>\n",
       "      <td>0</td>\n",
       "      <td>0</td>\n",
       "      <td>0</td>\n",
       "      <td>...</td>\n",
       "      <td>0</td>\n",
       "      <td>0</td>\n",
       "      <td>0</td>\n",
       "      <td>0</td>\n",
       "      <td>0</td>\n",
       "      <td>0</td>\n",
       "      <td>0</td>\n",
       "      <td>0</td>\n",
       "      <td>0</td>\n",
       "      <td>0</td>\n",
       "    </tr>\n",
       "  </tbody>\n",
       "</table>\n",
       "<p>7 rows × 53 columns</p>\n",
       "</div>"
      ],
      "text/plain": [
       "week        1         2        3        4         5         6         7   \\\n",
       "year                                                                       \n",
       "2020  9,748.00 24,943.00 9,165.00 9,290.00 10,148.00 13,425.00 20,205.00   \n",
       "2021 21,466.00  4,763.00 3,594.00 4,429.00 17,229.00 13,902.00  8,542.00   \n",
       "2022    730.00    983.00   797.00   990.00    937.00    623.00  1,796.00   \n",
       "2023      5.00      2.00        0        0         0         0      2.00   \n",
       "2024         0         0        0        0         0         0         0   \n",
       "2025         0         0        0        0         0         0         0   \n",
       "2026         0         0        0        0         0         0         0   \n",
       "\n",
       "week        8         9         10  ...        44        45        46  \\\n",
       "year                                ...                                 \n",
       "2020 18,453.00 15,137.00 21,435.00  ...  7,111.00 22,443.00 13,803.00   \n",
       "2021  8,096.00 20,457.00 16,408.00  ... 13,065.00  9,673.00  3,554.00   \n",
       "2022  1,002.00    888.00    463.00  ...  1,129.00    140.00         0   \n",
       "2023         0      4.00         0  ...         0         0         0   \n",
       "2024         0         0         0  ...         0         0         0   \n",
       "2025         0         0         0  ...         0         0         0   \n",
       "2026         0         0         0  ...         0         0         0   \n",
       "\n",
       "week       47       48        49        50       51        52        53  \n",
       "year                                                                     \n",
       "2020 5,963.00 8,098.00 10,160.00 13,051.00 6,419.00 14,301.00 10,838.00  \n",
       "2021 4,451.00 9,827.00 17,582.00  2,692.00 5,837.00  4,448.00  2,035.00  \n",
       "2022     4.00 1,044.00    283.00         0     4.00    385.00         0  \n",
       "2023        0        0         0         0        0      9.00         0  \n",
       "2024        0        0         0         0        0      4.00         0  \n",
       "2025        0        0         0         0        0         0         0  \n",
       "2026        0        0         0         0        0         0         0  \n",
       "\n",
       "[7 rows x 53 columns]"
      ]
     },
     "execution_count": 44,
     "metadata": {},
     "output_type": "execute_result"
    }
   ],
   "source": [
    "pass_years=pass_agr.pivot_table(values='Passengers_w', \n",
    "                      index='year', columns='week', \n",
    "                      aggfunc='first')\n",
    "pass_years = pass_years.astype(object).where(pd.notnull(pass_years),0)\n",
    "pass_years"
   ]
  },
  {
   "cell_type": "markdown",
   "metadata": {
    "slideshow": {
     "slide_type": "subslide"
    },
    "tags": []
   },
   "source": [
    "- No *passengers* per week for all year (diagram)"
   ]
  },
  {
   "cell_type": "code",
   "execution_count": 45,
   "metadata": {
    "tags": []
   },
   "outputs": [
    {
     "data": {
      "text/plain": [
       "<AxesSubplot:xlabel='week'>"
      ]
     },
     "execution_count": 45,
     "metadata": {},
     "output_type": "execute_result"
    },
    {
     "data": {
      "image/png": "[encoded data removed]",
      "text/plain": [
       "<Figure size 1080x720 with 1 Axes>"
      ]
     },
     "metadata": {
      "needs_background": "light"
     },
     "output_type": "display_data"
    }
   ],
   "source": [
    "pass_years.T.plot(kind=\"bar\",figsize=(15,10),width=2.5)"
   ]
  },
  {
   "cell_type": "code",
   "execution_count": 46,
   "metadata": {
    "slideshow": {
     "slide_type": "skip"
    },
    "tags": []
   },
   "outputs": [],
   "source": [
    "# No *passengers* per week for 2020 (table)?"
   ]
  },
  {
   "cell_type": "code",
   "execution_count": 47,
   "metadata": {
    "slideshow": {
     "slide_type": "skip"
    },
    "tags": []
   },
   "outputs": [],
   "source": [
    "# pass_years.loc['2020']"
   ]
  },
  {
   "cell_type": "code",
   "execution_count": 48,
   "metadata": {
    "slideshow": {
     "slide_type": "skip"
    },
    "tags": []
   },
   "outputs": [],
   "source": [
    "# No *passengers* per week for *2020* (daigram)"
   ]
  },
  {
   "cell_type": "code",
   "execution_count": 49,
   "metadata": {
    "slideshow": {
     "slide_type": "skip"
    },
    "tags": []
   },
   "outputs": [],
   "source": [
    "# pass_years.loc['2020'].plot(kind=\"bar\",figsize=(15,10),width=0.8)"
   ]
  },
  {
   "cell_type": "code",
   "execution_count": 50,
   "metadata": {
    "slideshow": {
     "slide_type": "skip"
    },
    "tags": []
   },
   "outputs": [],
   "source": [
    "# pass_years=pass_years\n",
    "# pass_years\n",
    "# pass_years['2020','2021'].plot(kind=\"bar\",figsize=(15,10),width=1.5)"
   ]
  },
  {
   "cell_type": "markdown",
   "metadata": {
    "slideshow": {
     "slide_type": "subslide"
    },
    "tags": []
   },
   "source": [
    "- No *reservations* per week"
   ]
  },
  {
   "cell_type": "code",
   "execution_count": 51,
   "metadata": {
    "scrolled": true,
    "slideshow": {
     "slide_type": "skip"
    },
    "tags": []
   },
   "outputs": [],
   "source": [
    "wf=df\n",
    "wf['week'] = wf['arrival_date'].apply(lambda x: \"%d\" % (x.week))\n",
    "wf['year'] = wf['arrival_date'].apply(lambda x: \"%d\" % (x.year))"
   ]
  },
  {
   "cell_type": "code",
   "execution_count": 52,
   "metadata": {
    "slideshow": {
     "slide_type": "fragment"
    },
    "tags": []
   },
   "outputs": [
    {
     "data": {
      "text/html": [
       "<div>\n",
       "<style scoped>\n",
       "    .dataframe tbody tr th:only-of-type {\n",
       "        vertical-align: middle;\n",
       "    }\n",
       "\n",
       "    .dataframe tbody tr th {\n",
       "        vertical-align: top;\n",
       "    }\n",
       "\n",
       "    .dataframe thead th {\n",
       "        text-align: right;\n",
       "    }\n",
       "</style>\n",
       "<table border=\"1\" class=\"dataframe\">\n",
       "  <thead>\n",
       "    <tr style=\"text-align: right;\">\n",
       "      <th></th>\n",
       "      <th>year</th>\n",
       "      <th>week</th>\n",
       "      <th>reservations_w</th>\n",
       "    </tr>\n",
       "  </thead>\n",
       "  <tbody>\n",
       "    <tr>\n",
       "      <th>46</th>\n",
       "      <td>2020</td>\n",
       "      <td>1</td>\n",
       "      <td>2301</td>\n",
       "    </tr>\n",
       "    <tr>\n",
       "      <th>7</th>\n",
       "      <td>2020</td>\n",
       "      <td>2</td>\n",
       "      <td>5458</td>\n",
       "    </tr>\n",
       "    <tr>\n",
       "      <th>44</th>\n",
       "      <td>2020</td>\n",
       "      <td>3</td>\n",
       "      <td>2355</td>\n",
       "    </tr>\n",
       "    <tr>\n",
       "      <th>42</th>\n",
       "      <td>2020</td>\n",
       "      <td>4</td>\n",
       "      <td>2462</td>\n",
       "    </tr>\n",
       "    <tr>\n",
       "      <th>40</th>\n",
       "      <td>2020</td>\n",
       "      <td>5</td>\n",
       "      <td>2666</td>\n",
       "    </tr>\n",
       "    <tr>\n",
       "      <th>...</th>\n",
       "      <td>...</td>\n",
       "      <td>...</td>\n",
       "      <td>...</td>\n",
       "    </tr>\n",
       "    <tr>\n",
       "      <th>159</th>\n",
       "      <td>2023</td>\n",
       "      <td>52</td>\n",
       "      <td>1</td>\n",
       "    </tr>\n",
       "    <tr>\n",
       "      <th>162</th>\n",
       "      <td>2024</td>\n",
       "      <td>52</td>\n",
       "      <td>1</td>\n",
       "    </tr>\n",
       "    <tr>\n",
       "      <th>163</th>\n",
       "      <td>2025</td>\n",
       "      <td>12</td>\n",
       "      <td>1</td>\n",
       "    </tr>\n",
       "    <tr>\n",
       "      <th>164</th>\n",
       "      <td>2025</td>\n",
       "      <td>13</td>\n",
       "      <td>1</td>\n",
       "    </tr>\n",
       "    <tr>\n",
       "      <th>165</th>\n",
       "      <td>2026</td>\n",
       "      <td>35</td>\n",
       "      <td>2</td>\n",
       "    </tr>\n",
       "  </tbody>\n",
       "</table>\n",
       "<p>166 rows × 3 columns</p>\n",
       "</div>"
      ],
      "text/plain": [
       "     year  week  reservations_w\n",
       "46   2020     1            2301\n",
       "7    2020     2            5458\n",
       "44   2020     3            2355\n",
       "42   2020     4            2462\n",
       "40   2020     5            2666\n",
       "..    ...   ...             ...\n",
       "159  2023    52               1\n",
       "162  2024    52               1\n",
       "163  2025    12               1\n",
       "164  2025    13               1\n",
       "165  2026    35               2\n",
       "\n",
       "[166 rows x 3 columns]"
      ]
     },
     "execution_count": 52,
     "metadata": {},
     "output_type": "execute_result"
    }
   ],
   "source": [
    "weeks_agr=pd.DataFrame(wf.groupby(['year'])['week'].value_counts().reset_index(name=\"reservations_w\"))\n",
    "weeks_agr['week']=weeks_agr['week'].astype(int)\n",
    "weeks_agr=weeks_agr.sort_values(by=['year','week'],ascending=True)\n",
    "weeks_agr"
   ]
  },
  {
   "cell_type": "markdown",
   "metadata": {
    "slideshow": {
     "slide_type": "subslide"
    },
    "tags": []
   },
   "source": [
    "- No *reservations* per week for all year (table)"
   ]
  },
  {
   "cell_type": "code",
   "execution_count": 53,
   "metadata": {},
   "outputs": [
    {
     "data": {
      "text/html": [
       "<div>\n",
       "<style scoped>\n",
       "    .dataframe tbody tr th:only-of-type {\n",
       "        vertical-align: middle;\n",
       "    }\n",
       "\n",
       "    .dataframe tbody tr th {\n",
       "        vertical-align: top;\n",
       "    }\n",
       "\n",
       "    .dataframe thead th {\n",
       "        text-align: right;\n",
       "    }\n",
       "</style>\n",
       "<table border=\"1\" class=\"dataframe\">\n",
       "  <thead>\n",
       "    <tr style=\"text-align: right;\">\n",
       "      <th>week</th>\n",
       "      <th>1</th>\n",
       "      <th>2</th>\n",
       "      <th>3</th>\n",
       "      <th>4</th>\n",
       "      <th>5</th>\n",
       "      <th>6</th>\n",
       "      <th>7</th>\n",
       "      <th>8</th>\n",
       "      <th>9</th>\n",
       "      <th>10</th>\n",
       "      <th>...</th>\n",
       "      <th>44</th>\n",
       "      <th>45</th>\n",
       "      <th>46</th>\n",
       "      <th>47</th>\n",
       "      <th>48</th>\n",
       "      <th>49</th>\n",
       "      <th>50</th>\n",
       "      <th>51</th>\n",
       "      <th>52</th>\n",
       "      <th>53</th>\n",
       "    </tr>\n",
       "    <tr>\n",
       "      <th>year</th>\n",
       "      <th></th>\n",
       "      <th></th>\n",
       "      <th></th>\n",
       "      <th></th>\n",
       "      <th></th>\n",
       "      <th></th>\n",
       "      <th></th>\n",
       "      <th></th>\n",
       "      <th></th>\n",
       "      <th></th>\n",
       "      <th></th>\n",
       "      <th></th>\n",
       "      <th></th>\n",
       "      <th></th>\n",
       "      <th></th>\n",
       "      <th></th>\n",
       "      <th></th>\n",
       "      <th></th>\n",
       "      <th></th>\n",
       "      <th></th>\n",
       "      <th></th>\n",
       "    </tr>\n",
       "  </thead>\n",
       "  <tbody>\n",
       "    <tr>\n",
       "      <th>2020</th>\n",
       "      <td>2,301.00</td>\n",
       "      <td>5,458.00</td>\n",
       "      <td>2,355.00</td>\n",
       "      <td>2,462.00</td>\n",
       "      <td>2,666.00</td>\n",
       "      <td>3,435.00</td>\n",
       "      <td>4,857.00</td>\n",
       "      <td>4,675.00</td>\n",
       "      <td>3,790.00</td>\n",
       "      <td>5,111.00</td>\n",
       "      <td>...</td>\n",
       "      <td>1,809.00</td>\n",
       "      <td>5,152.00</td>\n",
       "      <td>3,145.00</td>\n",
       "      <td>1,390.00</td>\n",
       "      <td>1,626.00</td>\n",
       "      <td>2,390.00</td>\n",
       "      <td>3,411.00</td>\n",
       "      <td>1,385.00</td>\n",
       "      <td>2,934.00</td>\n",
       "      <td>2,278.00</td>\n",
       "    </tr>\n",
       "    <tr>\n",
       "      <th>2021</th>\n",
       "      <td>5,182.00</td>\n",
       "      <td>1,079.00</td>\n",
       "      <td>899.00</td>\n",
       "      <td>1,152.00</td>\n",
       "      <td>3,930.00</td>\n",
       "      <td>3,533.00</td>\n",
       "      <td>2,125.00</td>\n",
       "      <td>2,010.00</td>\n",
       "      <td>4,760.00</td>\n",
       "      <td>3,915.00</td>\n",
       "      <td>...</td>\n",
       "      <td>3,076.00</td>\n",
       "      <td>2,723.00</td>\n",
       "      <td>728.00</td>\n",
       "      <td>796.00</td>\n",
       "      <td>2,399.00</td>\n",
       "      <td>4,332.00</td>\n",
       "      <td>467.00</td>\n",
       "      <td>1,052.00</td>\n",
       "      <td>776.00</td>\n",
       "      <td>621.00</td>\n",
       "    </tr>\n",
       "    <tr>\n",
       "      <th>2022</th>\n",
       "      <td>150.00</td>\n",
       "      <td>169.00</td>\n",
       "      <td>167.00</td>\n",
       "      <td>193.00</td>\n",
       "      <td>176.00</td>\n",
       "      <td>102.00</td>\n",
       "      <td>337.00</td>\n",
       "      <td>189.00</td>\n",
       "      <td>176.00</td>\n",
       "      <td>91.00</td>\n",
       "      <td>...</td>\n",
       "      <td>199.00</td>\n",
       "      <td>28.00</td>\n",
       "      <td>0</td>\n",
       "      <td>1.00</td>\n",
       "      <td>194.00</td>\n",
       "      <td>46.00</td>\n",
       "      <td>0</td>\n",
       "      <td>1.00</td>\n",
       "      <td>108.00</td>\n",
       "      <td>0</td>\n",
       "    </tr>\n",
       "    <tr>\n",
       "      <th>2023</th>\n",
       "      <td>1.00</td>\n",
       "      <td>1.00</td>\n",
       "      <td>0</td>\n",
       "      <td>0</td>\n",
       "      <td>0</td>\n",
       "      <td>0</td>\n",
       "      <td>1.00</td>\n",
       "      <td>0</td>\n",
       "      <td>1.00</td>\n",
       "      <td>0</td>\n",
       "      <td>...</td>\n",
       "      <td>0</td>\n",
       "      <td>0</td>\n",
       "      <td>0</td>\n",
       "      <td>0</td>\n",
       "      <td>0</td>\n",
       "      <td>0</td>\n",
       "      <td>0</td>\n",
       "      <td>0</td>\n",
       "      <td>1.00</td>\n",
       "      <td>0</td>\n",
       "    </tr>\n",
       "    <tr>\n",
       "      <th>2024</th>\n",
       "      <td>0</td>\n",
       "      <td>0</td>\n",
       "      <td>0</td>\n",
       "      <td>0</td>\n",
       "      <td>0</td>\n",
       "      <td>0</td>\n",
       "      <td>0</td>\n",
       "      <td>0</td>\n",
       "      <td>0</td>\n",
       "      <td>0</td>\n",
       "      <td>...</td>\n",
       "      <td>0</td>\n",
       "      <td>0</td>\n",
       "      <td>0</td>\n",
       "      <td>0</td>\n",
       "      <td>0</td>\n",
       "      <td>0</td>\n",
       "      <td>0</td>\n",
       "      <td>0</td>\n",
       "      <td>1.00</td>\n",
       "      <td>0</td>\n",
       "    </tr>\n",
       "    <tr>\n",
       "      <th>2025</th>\n",
       "      <td>0</td>\n",
       "      <td>0</td>\n",
       "      <td>0</td>\n",
       "      <td>0</td>\n",
       "      <td>0</td>\n",
       "      <td>0</td>\n",
       "      <td>0</td>\n",
       "      <td>0</td>\n",
       "      <td>0</td>\n",
       "      <td>0</td>\n",
       "      <td>...</td>\n",
       "      <td>0</td>\n",
       "      <td>0</td>\n",
       "      <td>0</td>\n",
       "      <td>0</td>\n",
       "      <td>0</td>\n",
       "      <td>0</td>\n",
       "      <td>0</td>\n",
       "      <td>0</td>\n",
       "      <td>0</td>\n",
       "      <td>0</td>\n",
       "    </tr>\n",
       "    <tr>\n",
       "      <th>2026</th>\n",
       "      <td>0</td>\n",
       "      <td>0</td>\n",
       "      <td>0</td>\n",
       "      <td>0</td>\n",
       "      <td>0</td>\n",
       "      <td>0</td>\n",
       "      <td>0</td>\n",
       "      <td>0</td>\n",
       "      <td>0</td>\n",
       "      <td>0</td>\n",
       "      <td>...</td>\n",
       "      <td>0</td>\n",
       "      <td>0</td>\n",
       "      <td>0</td>\n",
       "      <td>0</td>\n",
       "      <td>0</td>\n",
       "      <td>0</td>\n",
       "      <td>0</td>\n",
       "      <td>0</td>\n",
       "      <td>0</td>\n",
       "      <td>0</td>\n",
       "    </tr>\n",
       "  </tbody>\n",
       "</table>\n",
       "<p>7 rows × 53 columns</p>\n",
       "</div>"
      ],
      "text/plain": [
       "week       1        2        3        4        5        6        7        8   \\\n",
       "year                                                                           \n",
       "2020 2,301.00 5,458.00 2,355.00 2,462.00 2,666.00 3,435.00 4,857.00 4,675.00   \n",
       "2021 5,182.00 1,079.00   899.00 1,152.00 3,930.00 3,533.00 2,125.00 2,010.00   \n",
       "2022   150.00   169.00   167.00   193.00   176.00   102.00   337.00   189.00   \n",
       "2023     1.00     1.00        0        0        0        0     1.00        0   \n",
       "2024        0        0        0        0        0        0        0        0   \n",
       "2025        0        0        0        0        0        0        0        0   \n",
       "2026        0        0        0        0        0        0        0        0   \n",
       "\n",
       "week       9        10  ...       44       45       46       47       48  \\\n",
       "year                    ...                                                \n",
       "2020 3,790.00 5,111.00  ... 1,809.00 5,152.00 3,145.00 1,390.00 1,626.00   \n",
       "2021 4,760.00 3,915.00  ... 3,076.00 2,723.00   728.00   796.00 2,399.00   \n",
       "2022   176.00    91.00  ...   199.00    28.00        0     1.00   194.00   \n",
       "2023     1.00        0  ...        0        0        0        0        0   \n",
       "2024        0        0  ...        0        0        0        0        0   \n",
       "2025        0        0  ...        0        0        0        0        0   \n",
       "2026        0        0  ...        0        0        0        0        0   \n",
       "\n",
       "week       49       50       51       52       53  \n",
       "year                                               \n",
       "2020 2,390.00 3,411.00 1,385.00 2,934.00 2,278.00  \n",
       "2021 4,332.00   467.00 1,052.00   776.00   621.00  \n",
       "2022    46.00        0     1.00   108.00        0  \n",
       "2023        0        0        0     1.00        0  \n",
       "2024        0        0        0     1.00        0  \n",
       "2025        0        0        0        0        0  \n",
       "2026        0        0        0        0        0  \n",
       "\n",
       "[7 rows x 53 columns]"
      ]
     },
     "execution_count": 53,
     "metadata": {},
     "output_type": "execute_result"
    }
   ],
   "source": [
    "weeks_agr=weeks_agr.pivot_table(values='reservations_w', \n",
    "                      index='year', columns='week', \n",
    "                      aggfunc='first')\n",
    "weeks_agr = weeks_agr.astype(object).where(pd.notnull(weeks_agr),0)\n",
    "weeks_agr"
   ]
  },
  {
   "cell_type": "markdown",
   "metadata": {
    "slideshow": {
     "slide_type": "subslide"
    },
    "tags": []
   },
   "source": [
    "- No *reservations* per week for all year (diagram)"
   ]
  },
  {
   "cell_type": "code",
   "execution_count": 54,
   "metadata": {},
   "outputs": [
    {
     "data": {
      "text/plain": [
       "<AxesSubplot:xlabel='week'>"
      ]
     },
     "execution_count": 54,
     "metadata": {},
     "output_type": "execute_result"
    },
    {
     "data": {
      "image/png": "[encoded data removed]",
      "text/plain": [
       "<Figure size 1080x720 with 1 Axes>"
      ]
     },
     "metadata": {
      "needs_background": "light"
     },
     "output_type": "display_data"
    }
   ],
   "source": [
    "weeks_agr.T.plot(kind=\"bar\",figsize=(15,10),width=2.5)"
   ]
  },
  {
   "cell_type": "code",
   "execution_count": 55,
   "metadata": {
    "slideshow": {
     "slide_type": "skip"
    },
    "tags": []
   },
   "outputs": [],
   "source": [
    "# No *reservations* per week for 2020 (table)"
   ]
  },
  {
   "cell_type": "code",
   "execution_count": 56,
   "metadata": {
    "slideshow": {
     "slide_type": "skip"
    },
    "tags": []
   },
   "outputs": [],
   "source": [
    "# weeks_agr.loc['2020']"
   ]
  },
  {
   "cell_type": "code",
   "execution_count": 57,
   "metadata": {
    "slideshow": {
     "slide_type": "skip"
    },
    "tags": []
   },
   "outputs": [],
   "source": [
    "# No *reservations* per week for 2020 (diagram)"
   ]
  },
  {
   "cell_type": "code",
   "execution_count": 58,
   "metadata": {
    "slideshow": {
     "slide_type": "skip"
    },
    "tags": []
   },
   "outputs": [],
   "source": [
    "# weeks_agr.loc['2020'].plot(kind=\"bar\",figsize=(15,10),width=0.8)"
   ]
  },
  {
   "cell_type": "markdown",
   "metadata": {
    "slideshow": {
     "slide_type": "slide"
    },
    "tags": []
   },
   "source": [
    "------\n",
    "# Volume of arrivals per product market\n",
    "------"
   ]
  },
  {
   "cell_type": "markdown",
   "metadata": {
    "slideshow": {
     "slide_type": "subslide"
    },
    "tags": []
   },
   "source": [
    "- No of bookings per product market"
   ]
  },
  {
   "cell_type": "code",
   "execution_count": 59,
   "metadata": {
    "slideshow": {
     "slide_type": "fragment"
    },
    "tags": []
   },
   "outputs": [
    {
     "data": {
      "text/html": [
       "<div>\n",
       "<style scoped>\n",
       "    .dataframe tbody tr th:only-of-type {\n",
       "        vertical-align: middle;\n",
       "    }\n",
       "\n",
       "    .dataframe tbody tr th {\n",
       "        vertical-align: top;\n",
       "    }\n",
       "\n",
       "    .dataframe thead th {\n",
       "        text-align: right;\n",
       "    }\n",
       "</style>\n",
       "<table border=\"1\" class=\"dataframe\">\n",
       "  <thead>\n",
       "    <tr style=\"text-align: right;\">\n",
       "      <th></th>\n",
       "      <th>country_code</th>\n",
       "      <th>channel</th>\n",
       "      <th>bookings_ch</th>\n",
       "    </tr>\n",
       "  </thead>\n",
       "  <tbody>\n",
       "    <tr>\n",
       "      <th>0</th>\n",
       "      <td>AD</td>\n",
       "      <td>BOO142</td>\n",
       "      <td>22</td>\n",
       "    </tr>\n",
       "    <tr>\n",
       "      <th>1</th>\n",
       "      <td>AD</td>\n",
       "      <td>AIR298</td>\n",
       "      <td>2</td>\n",
       "    </tr>\n",
       "    <tr>\n",
       "      <th>2</th>\n",
       "      <td>AD</td>\n",
       "      <td>HOM143</td>\n",
       "      <td>2</td>\n",
       "    </tr>\n",
       "    <tr>\n",
       "      <th>3</th>\n",
       "      <td>AD</td>\n",
       "      <td>EDO334</td>\n",
       "      <td>1</td>\n",
       "    </tr>\n",
       "    <tr>\n",
       "      <th>4</th>\n",
       "      <td>AE</td>\n",
       "      <td>BOO142</td>\n",
       "      <td>105</td>\n",
       "    </tr>\n",
       "    <tr>\n",
       "      <th>...</th>\n",
       "      <td>...</td>\n",
       "      <td>...</td>\n",
       "      <td>...</td>\n",
       "    </tr>\n",
       "    <tr>\n",
       "      <th>716</th>\n",
       "      <td>ZA</td>\n",
       "      <td>GOO328</td>\n",
       "      <td>6</td>\n",
       "    </tr>\n",
       "    <tr>\n",
       "      <th>717</th>\n",
       "      <td>ZA</td>\n",
       "      <td>HOM143</td>\n",
       "      <td>2</td>\n",
       "    </tr>\n",
       "    <tr>\n",
       "      <th>718</th>\n",
       "      <td>ZA</td>\n",
       "      <td>EXP270</td>\n",
       "      <td>1</td>\n",
       "    </tr>\n",
       "    <tr>\n",
       "      <th>719</th>\n",
       "      <td>ZM</td>\n",
       "      <td>AIR298</td>\n",
       "      <td>1</td>\n",
       "    </tr>\n",
       "    <tr>\n",
       "      <th>720</th>\n",
       "      <td>ZW</td>\n",
       "      <td>BOO142</td>\n",
       "      <td>1</td>\n",
       "    </tr>\n",
       "  </tbody>\n",
       "</table>\n",
       "<p>721 rows × 3 columns</p>\n",
       "</div>"
      ],
      "text/plain": [
       "    country_code channel  bookings_ch\n",
       "0             AD  BOO142           22\n",
       "1             AD  AIR298            2\n",
       "2             AD  HOM143            2\n",
       "3             AD  EDO334            1\n",
       "4             AE  BOO142          105\n",
       "..           ...     ...          ...\n",
       "716           ZA  GOO328            6\n",
       "717           ZA  HOM143            2\n",
       "718           ZA  EXP270            1\n",
       "719           ZM  AIR298            1\n",
       "720           ZW  BOO142            1\n",
       "\n",
       "[721 rows x 3 columns]"
      ]
     },
     "execution_count": 59,
     "metadata": {},
     "output_type": "execute_result"
    }
   ],
   "source": [
    "ch_agr=pd.DataFrame(wf.groupby(['country_code'])['channel'].value_counts().reset_index(name='bookings_ch'))\n",
    "ch_agr"
   ]
  },
  {
   "cell_type": "code",
   "execution_count": 60,
   "metadata": {
    "slideshow": {
     "slide_type": "skip"
    },
    "tags": []
   },
   "outputs": [],
   "source": [
    "# ch_agr=pd.DataFrame(wf.groupby(['country_code'])['channel_id'].value_counts().reset_index(name='bookings_ch'))\n",
    "# ch_agr"
   ]
  },
  {
   "cell_type": "markdown",
   "metadata": {
    "slideshow": {
     "slide_type": "subslide"
    },
    "tags": []
   },
   "source": [
    "- No of passengers per product market"
   ]
  },
  {
   "cell_type": "code",
   "execution_count": 61,
   "metadata": {
    "slideshow": {
     "slide_type": "fragment"
    },
    "tags": []
   },
   "outputs": [
    {
     "data": {
      "text/html": [
       "<div>\n",
       "<style scoped>\n",
       "    .dataframe tbody tr th:only-of-type {\n",
       "        vertical-align: middle;\n",
       "    }\n",
       "\n",
       "    .dataframe tbody tr th {\n",
       "        vertical-align: top;\n",
       "    }\n",
       "\n",
       "    .dataframe thead th {\n",
       "        text-align: right;\n",
       "    }\n",
       "</style>\n",
       "<table border=\"1\" class=\"dataframe\">\n",
       "  <thead>\n",
       "    <tr style=\"text-align: right;\">\n",
       "      <th></th>\n",
       "      <th>country_code</th>\n",
       "      <th>channel</th>\n",
       "      <th>Passengers_ch</th>\n",
       "    </tr>\n",
       "  </thead>\n",
       "  <tbody>\n",
       "    <tr>\n",
       "      <th>0</th>\n",
       "      <td>AD</td>\n",
       "      <td>BOO142</td>\n",
       "      <td>22</td>\n",
       "    </tr>\n",
       "    <tr>\n",
       "      <th>1</th>\n",
       "      <td>AD</td>\n",
       "      <td>AIR298</td>\n",
       "      <td>2</td>\n",
       "    </tr>\n",
       "    <tr>\n",
       "      <th>2</th>\n",
       "      <td>AD</td>\n",
       "      <td>HOM143</td>\n",
       "      <td>2</td>\n",
       "    </tr>\n",
       "    <tr>\n",
       "      <th>3</th>\n",
       "      <td>AD</td>\n",
       "      <td>EDO334</td>\n",
       "      <td>1</td>\n",
       "    </tr>\n",
       "    <tr>\n",
       "      <th>4</th>\n",
       "      <td>AE</td>\n",
       "      <td>BOO142</td>\n",
       "      <td>105</td>\n",
       "    </tr>\n",
       "    <tr>\n",
       "      <th>...</th>\n",
       "      <td>...</td>\n",
       "      <td>...</td>\n",
       "      <td>...</td>\n",
       "    </tr>\n",
       "    <tr>\n",
       "      <th>716</th>\n",
       "      <td>ZA</td>\n",
       "      <td>GOO328</td>\n",
       "      <td>6</td>\n",
       "    </tr>\n",
       "    <tr>\n",
       "      <th>717</th>\n",
       "      <td>ZA</td>\n",
       "      <td>HOM143</td>\n",
       "      <td>2</td>\n",
       "    </tr>\n",
       "    <tr>\n",
       "      <th>718</th>\n",
       "      <td>ZA</td>\n",
       "      <td>EXP270</td>\n",
       "      <td>1</td>\n",
       "    </tr>\n",
       "    <tr>\n",
       "      <th>719</th>\n",
       "      <td>ZM</td>\n",
       "      <td>AIR298</td>\n",
       "      <td>1</td>\n",
       "    </tr>\n",
       "    <tr>\n",
       "      <th>720</th>\n",
       "      <td>ZW</td>\n",
       "      <td>BOO142</td>\n",
       "      <td>1</td>\n",
       "    </tr>\n",
       "  </tbody>\n",
       "</table>\n",
       "<p>721 rows × 3 columns</p>\n",
       "</div>"
      ],
      "text/plain": [
       "    country_code channel  Passengers_ch\n",
       "0             AD  BOO142             22\n",
       "1             AD  AIR298              2\n",
       "2             AD  HOM143              2\n",
       "3             AD  EDO334              1\n",
       "4             AE  BOO142            105\n",
       "..           ...     ...            ...\n",
       "716           ZA  GOO328              6\n",
       "717           ZA  HOM143              2\n",
       "718           ZA  EXP270              1\n",
       "719           ZM  AIR298              1\n",
       "720           ZW  BOO142              1\n",
       "\n",
       "[721 rows x 3 columns]"
      ]
     },
     "execution_count": 61,
     "metadata": {},
     "output_type": "execute_result"
    }
   ],
   "source": [
    "pass_agr=pd.DataFrame(wf.groupby(['country_code'])['channel'].value_counts().reset_index(name='Passengers_ch'))\n",
    "pass_agr"
   ]
  },
  {
   "cell_type": "markdown",
   "metadata": {
    "slideshow": {
     "slide_type": "slide"
    },
    "tags": []
   },
   "source": [
    "---\n",
    "# Benchmark for the last year\n",
    "---"
   ]
  },
  {
   "cell_type": "code",
   "execution_count": 62,
   "metadata": {
    "slideshow": {
     "slide_type": "skip"
    },
    "tags": []
   },
   "outputs": [],
   "source": [
    "# years=wf['year'].value_counts().index\n",
    "# year={}\n",
    "# for x in years:\n",
    "# #     print(x)\n",
    "#     year[x]=pd.DataFrame(weeks_agr['week'][x])\n",
    "#     year[x].index = year[x].index.astype(int)\n",
    "#     # print(type(t4.index))\n",
    "#     year[x]=year[x].sort_index().T\n",
    "#     year[x].index=[x]\n",
    "# years_weeks=pd.DataFrame(columns=[x for x in range(1,54)])\n",
    "# def agrr_week(x):\n",
    "#     return pd.concat([years_weeks,year[x]],axis=0)\n",
    "# for x in year:\n",
    "#     years_weeks=agrr_week(x)\n",
    "# years_weeks = years_weeks.astype(object).where(pd.notnull(years_weeks),0)\n",
    "# years_weeks"
   ]
  },
  {
   "cell_type": "code",
   "execution_count": 63,
   "metadata": {
    "slideshow": {
     "slide_type": "skip"
    },
    "tags": []
   },
   "outputs": [],
   "source": [
    "# weeks_agr=weeks_agr.pivot_table(values='reservations_w', \n",
    "#                       index='year', columns='week', \n",
    "#                       aggfunc='first')\n",
    "# weeks_agr = weeks_agr.astype(object).where(pd.notnull(years_weeks),0)\n",
    "# weeks_agr"
   ]
  },
  {
   "cell_type": "code",
   "execution_count": 64,
   "metadata": {
    "slideshow": {
     "slide_type": "skip"
    },
    "tags": []
   },
   "outputs": [],
   "source": [
    "# years_weeks.T.plot(kind=\"bar\",figsize=(15,10),width=1.5)"
   ]
  },
  {
   "cell_type": "code",
   "execution_count": 65,
   "metadata": {
    "slideshow": {
     "slide_type": "skip"
    },
    "tags": []
   },
   "outputs": [],
   "source": [
    "# weeks_agr_2020 = pd.Series(weeks_agr.loc['2020'])\n",
    "# weeks_agr_2020"
   ]
  },
  {
   "cell_type": "markdown",
   "metadata": {
    "slideshow": {
     "slide_type": "subslide"
    },
    "tags": []
   },
   "source": [
    "- No of *Reservations* per week for last year (i.e., 2020) (table)"
   ]
  },
  {
   "cell_type": "code",
   "execution_count": 66,
   "metadata": {
    "tags": []
   },
   "outputs": [
    {
     "data": {
      "text/html": [
       "<div>\n",
       "<style scoped>\n",
       "    .dataframe tbody tr th:only-of-type {\n",
       "        vertical-align: middle;\n",
       "    }\n",
       "\n",
       "    .dataframe tbody tr th {\n",
       "        vertical-align: top;\n",
       "    }\n",
       "\n",
       "    .dataframe thead th {\n",
       "        text-align: right;\n",
       "    }\n",
       "</style>\n",
       "<table border=\"1\" class=\"dataframe\">\n",
       "  <thead>\n",
       "    <tr style=\"text-align: right;\">\n",
       "      <th>week</th>\n",
       "      <th>1</th>\n",
       "      <th>2</th>\n",
       "      <th>3</th>\n",
       "      <th>4</th>\n",
       "      <th>5</th>\n",
       "      <th>6</th>\n",
       "      <th>7</th>\n",
       "      <th>8</th>\n",
       "      <th>9</th>\n",
       "      <th>10</th>\n",
       "      <th>...</th>\n",
       "      <th>44</th>\n",
       "      <th>45</th>\n",
       "      <th>46</th>\n",
       "      <th>47</th>\n",
       "      <th>48</th>\n",
       "      <th>49</th>\n",
       "      <th>50</th>\n",
       "      <th>51</th>\n",
       "      <th>52</th>\n",
       "      <th>53</th>\n",
       "    </tr>\n",
       "    <tr>\n",
       "      <th>year</th>\n",
       "      <th></th>\n",
       "      <th></th>\n",
       "      <th></th>\n",
       "      <th></th>\n",
       "      <th></th>\n",
       "      <th></th>\n",
       "      <th></th>\n",
       "      <th></th>\n",
       "      <th></th>\n",
       "      <th></th>\n",
       "      <th></th>\n",
       "      <th></th>\n",
       "      <th></th>\n",
       "      <th></th>\n",
       "      <th></th>\n",
       "      <th></th>\n",
       "      <th></th>\n",
       "      <th></th>\n",
       "      <th></th>\n",
       "      <th></th>\n",
       "      <th></th>\n",
       "    </tr>\n",
       "  </thead>\n",
       "  <tbody>\n",
       "    <tr>\n",
       "      <th>2020</th>\n",
       "      <td>2,301.00</td>\n",
       "      <td>5,458.00</td>\n",
       "      <td>2,355.00</td>\n",
       "      <td>2,462.00</td>\n",
       "      <td>2,666.00</td>\n",
       "      <td>3,435.00</td>\n",
       "      <td>4,857.00</td>\n",
       "      <td>4,675.00</td>\n",
       "      <td>3,790.00</td>\n",
       "      <td>5,111.00</td>\n",
       "      <td>...</td>\n",
       "      <td>1,809.00</td>\n",
       "      <td>5,152.00</td>\n",
       "      <td>3,145.00</td>\n",
       "      <td>1,390.00</td>\n",
       "      <td>1,626.00</td>\n",
       "      <td>2,390.00</td>\n",
       "      <td>3,411.00</td>\n",
       "      <td>1,385.00</td>\n",
       "      <td>2,934.00</td>\n",
       "      <td>2,278.00</td>\n",
       "    </tr>\n",
       "  </tbody>\n",
       "</table>\n",
       "<p>1 rows × 53 columns</p>\n",
       "</div>"
      ],
      "text/plain": [
       "week       1        2        3        4        5        6        7        8   \\\n",
       "year                                                                           \n",
       "2020 2,301.00 5,458.00 2,355.00 2,462.00 2,666.00 3,435.00 4,857.00 4,675.00   \n",
       "\n",
       "week       9        10  ...       44       45       46       47       48  \\\n",
       "year                    ...                                                \n",
       "2020 3,790.00 5,111.00  ... 1,809.00 5,152.00 3,145.00 1,390.00 1,626.00   \n",
       "\n",
       "week       49       50       51       52       53  \n",
       "year                                               \n",
       "2020 2,390.00 3,411.00 1,385.00 2,934.00 2,278.00  \n",
       "\n",
       "[1 rows x 53 columns]"
      ]
     },
     "execution_count": 66,
     "metadata": {},
     "output_type": "execute_result"
    }
   ],
   "source": [
    "weeks_agr.loc[['2020']]"
   ]
  },
  {
   "cell_type": "markdown",
   "metadata": {
    "slideshow": {
     "slide_type": "subslide"
    },
    "tags": []
   },
   "source": [
    "- No of Reservations per week for last year (i.e., 2020) (diagram)"
   ]
  },
  {
   "cell_type": "code",
   "execution_count": 67,
   "metadata": {
    "tags": []
   },
   "outputs": [
    {
     "data": {
      "text/plain": [
       "<AxesSubplot:xlabel='week'>"
      ]
     },
     "execution_count": 67,
     "metadata": {},
     "output_type": "execute_result"
    },
    {
     "data": {
      "image/png": "[encoded data removed]",
      "text/plain": [
       "<Figure size 1080x720 with 1 Axes>"
      ]
     },
     "metadata": {
      "needs_background": "light"
     },
     "output_type": "display_data"
    }
   ],
   "source": [
    "weeks_agr.loc['2020'].plot(kind=\"bar\",figsize=(15,10))"
   ]
  },
  {
   "cell_type": "markdown",
   "metadata": {
    "slideshow": {
     "slide_type": "slide"
    },
    "tags": []
   },
   "source": [
    "- No of *passengers* per week for last year (i.e., 2020) (table)"
   ]
  },
  {
   "cell_type": "code",
   "execution_count": 68,
   "metadata": {},
   "outputs": [
    {
     "data": {
      "text/html": [
       "<div>\n",
       "<style scoped>\n",
       "    .dataframe tbody tr th:only-of-type {\n",
       "        vertical-align: middle;\n",
       "    }\n",
       "\n",
       "    .dataframe tbody tr th {\n",
       "        vertical-align: top;\n",
       "    }\n",
       "\n",
       "    .dataframe thead th {\n",
       "        text-align: right;\n",
       "    }\n",
       "</style>\n",
       "<table border=\"1\" class=\"dataframe\">\n",
       "  <thead>\n",
       "    <tr style=\"text-align: right;\">\n",
       "      <th>week</th>\n",
       "      <th>1</th>\n",
       "      <th>2</th>\n",
       "      <th>3</th>\n",
       "      <th>4</th>\n",
       "      <th>5</th>\n",
       "      <th>6</th>\n",
       "      <th>7</th>\n",
       "      <th>8</th>\n",
       "      <th>9</th>\n",
       "      <th>10</th>\n",
       "      <th>...</th>\n",
       "      <th>44</th>\n",
       "      <th>45</th>\n",
       "      <th>46</th>\n",
       "      <th>47</th>\n",
       "      <th>48</th>\n",
       "      <th>49</th>\n",
       "      <th>50</th>\n",
       "      <th>51</th>\n",
       "      <th>52</th>\n",
       "      <th>53</th>\n",
       "    </tr>\n",
       "    <tr>\n",
       "      <th>year</th>\n",
       "      <th></th>\n",
       "      <th></th>\n",
       "      <th></th>\n",
       "      <th></th>\n",
       "      <th></th>\n",
       "      <th></th>\n",
       "      <th></th>\n",
       "      <th></th>\n",
       "      <th></th>\n",
       "      <th></th>\n",
       "      <th></th>\n",
       "      <th></th>\n",
       "      <th></th>\n",
       "      <th></th>\n",
       "      <th></th>\n",
       "      <th></th>\n",
       "      <th></th>\n",
       "      <th></th>\n",
       "      <th></th>\n",
       "      <th></th>\n",
       "      <th></th>\n",
       "    </tr>\n",
       "  </thead>\n",
       "  <tbody>\n",
       "    <tr>\n",
       "      <th>2020</th>\n",
       "      <td>9,748.00</td>\n",
       "      <td>24,943.00</td>\n",
       "      <td>9,165.00</td>\n",
       "      <td>9,290.00</td>\n",
       "      <td>10,148.00</td>\n",
       "      <td>13,425.00</td>\n",
       "      <td>20,205.00</td>\n",
       "      <td>18,453.00</td>\n",
       "      <td>15,137.00</td>\n",
       "      <td>21,435.00</td>\n",
       "      <td>...</td>\n",
       "      <td>7,111.00</td>\n",
       "      <td>22,443.00</td>\n",
       "      <td>13,803.00</td>\n",
       "      <td>5,963.00</td>\n",
       "      <td>8,098.00</td>\n",
       "      <td>10,160.00</td>\n",
       "      <td>13,051.00</td>\n",
       "      <td>6,419.00</td>\n",
       "      <td>14,301.00</td>\n",
       "      <td>10,838.00</td>\n",
       "    </tr>\n",
       "  </tbody>\n",
       "</table>\n",
       "<p>1 rows × 53 columns</p>\n",
       "</div>"
      ],
      "text/plain": [
       "week       1         2        3        4         5         6         7   \\\n",
       "year                                                                      \n",
       "2020 9,748.00 24,943.00 9,165.00 9,290.00 10,148.00 13,425.00 20,205.00   \n",
       "\n",
       "week        8         9         10  ...       44        45        46       47  \\\n",
       "year                                ...                                         \n",
       "2020 18,453.00 15,137.00 21,435.00  ... 7,111.00 22,443.00 13,803.00 5,963.00   \n",
       "\n",
       "week       48        49        50       51        52        53  \n",
       "year                                                            \n",
       "2020 8,098.00 10,160.00 13,051.00 6,419.00 14,301.00 10,838.00  \n",
       "\n",
       "[1 rows x 53 columns]"
      ]
     },
     "execution_count": 68,
     "metadata": {},
     "output_type": "execute_result"
    }
   ],
   "source": [
    "pass_years.loc[['2020']]"
   ]
  },
  {
   "cell_type": "markdown",
   "metadata": {
    "slideshow": {
     "slide_type": "subslide"
    },
    "tags": []
   },
   "source": [
    "- No of *passengers* per week for last year (i.e., 2020) (diagram)"
   ]
  },
  {
   "cell_type": "code",
   "execution_count": 69,
   "metadata": {},
   "outputs": [
    {
     "data": {
      "text/plain": [
       "<AxesSubplot:xlabel='week'>"
      ]
     },
     "execution_count": 69,
     "metadata": {},
     "output_type": "execute_result"
    },
    {
     "data": {
      "image/png": "[encoded data removed]",
      "text/plain": [
       "<Figure size 1080x720 with 1 Axes>"
      ]
     },
     "metadata": {
      "needs_background": "light"
     },
     "output_type": "display_data"
    }
   ],
   "source": [
    "pass_years.loc['2020'].plot(kind=\"bar\",figsize=(15,10))"
   ]
  },
  {
   "cell_type": "markdown",
   "metadata": {
    "slideshow": {
     "slide_type": "slide"
    },
    "tags": []
   },
   "source": [
    "# Filters in the report for YTD (year to date), MTD (month to date) and / or selected period"
   ]
  },
  {
   "cell_type": "markdown",
   "metadata": {
    "slideshow": {
     "slide_type": "subslide"
    },
    "tags": []
   },
   "source": [
    "- Example:\n",
    "    - Input:\n",
    "        - Enter the start Date dd/mm/yyyy :  *01/01/2020*\n",
    "        - Enter the end Date dd/mm/yyyy :  *31/12/2020*\n",
    "    - Output:\n",
    "        - country ,channel, & no Passengers"
   ]
  },
  {
   "cell_type": "code",
   "execution_count": 70,
   "metadata": {
    "slideshow": {
     "slide_type": "fragment"
    },
    "tags": []
   },
   "outputs": [],
   "source": [
    "wf['date'] = wf['arrival_date'].apply(lambda x: \"%d\" % (x.day))"
   ]
  },
  {
   "cell_type": "code",
   "execution_count": 71,
   "metadata": {
    "scrolled": true,
    "tags": []
   },
   "outputs": [
    {
     "name": "stdin",
     "output_type": "stream",
     "text": [
      "Enter the start Date dd/mm/yyyy :  01/01/2020\n",
      "Enter the end Date dd/mm/yyyy :  31/12/2020\n"
     ]
    },
    {
     "data": {
      "text/html": [
       "<div>\n",
       "<style scoped>\n",
       "    .dataframe tbody tr th:only-of-type {\n",
       "        vertical-align: middle;\n",
       "    }\n",
       "\n",
       "    .dataframe tbody tr th {\n",
       "        vertical-align: top;\n",
       "    }\n",
       "\n",
       "    .dataframe thead th {\n",
       "        text-align: right;\n",
       "    }\n",
       "</style>\n",
       "<table border=\"1\" class=\"dataframe\">\n",
       "  <thead>\n",
       "    <tr style=\"text-align: right;\">\n",
       "      <th></th>\n",
       "      <th>country_code</th>\n",
       "      <th>channel</th>\n",
       "      <th>no_Passengers</th>\n",
       "    </tr>\n",
       "  </thead>\n",
       "  <tbody>\n",
       "    <tr>\n",
       "      <th>1</th>\n",
       "      <td>GB</td>\n",
       "      <td>BOO142</td>\n",
       "      <td>2</td>\n",
       "    </tr>\n",
       "    <tr>\n",
       "      <th>2</th>\n",
       "      <td>GB</td>\n",
       "      <td>BOO142</td>\n",
       "      <td>4</td>\n",
       "    </tr>\n",
       "    <tr>\n",
       "      <th>4</th>\n",
       "      <td>US</td>\n",
       "      <td>HOM143</td>\n",
       "      <td>2</td>\n",
       "    </tr>\n",
       "    <tr>\n",
       "      <th>5</th>\n",
       "      <td>GB</td>\n",
       "      <td>HOM143</td>\n",
       "      <td>4</td>\n",
       "    </tr>\n",
       "    <tr>\n",
       "      <th>6</th>\n",
       "      <td>DE</td>\n",
       "      <td>HOM143</td>\n",
       "      <td>2</td>\n",
       "    </tr>\n",
       "    <tr>\n",
       "      <th>...</th>\n",
       "      <td>...</td>\n",
       "      <td>...</td>\n",
       "      <td>...</td>\n",
       "    </tr>\n",
       "    <tr>\n",
       "      <th>406424</th>\n",
       "      <td>IT</td>\n",
       "      <td>BOO142</td>\n",
       "      <td>7</td>\n",
       "    </tr>\n",
       "    <tr>\n",
       "      <th>406426</th>\n",
       "      <td>CH</td>\n",
       "      <td>CAM323</td>\n",
       "      <td>5</td>\n",
       "    </tr>\n",
       "    <tr>\n",
       "      <th>406427</th>\n",
       "      <td>DK</td>\n",
       "      <td>BOO142</td>\n",
       "      <td>2</td>\n",
       "    </tr>\n",
       "    <tr>\n",
       "      <th>406428</th>\n",
       "      <td>AU</td>\n",
       "      <td>BOO142</td>\n",
       "      <td>2</td>\n",
       "    </tr>\n",
       "    <tr>\n",
       "      <th>406429</th>\n",
       "      <td>NL</td>\n",
       "      <td>HOT138</td>\n",
       "      <td>4</td>\n",
       "    </tr>\n",
       "  </tbody>\n",
       "</table>\n",
       "<p>212829 rows × 3 columns</p>\n",
       "</div>"
      ],
      "text/plain": [
       "       country_code channel  no_Passengers\n",
       "1                GB  BOO142              2\n",
       "2                GB  BOO142              4\n",
       "4                US  HOM143              2\n",
       "5                GB  HOM143              4\n",
       "6                DE  HOM143              2\n",
       "...             ...     ...            ...\n",
       "406424           IT  BOO142              7\n",
       "406426           CH  CAM323              5\n",
       "406427           DK  BOO142              2\n",
       "406428           AU  BOO142              2\n",
       "406429           NL  HOT138              4\n",
       "\n",
       "[212829 rows x 3 columns]"
      ]
     },
     "execution_count": 71,
     "metadata": {},
     "output_type": "execute_result"
    }
   ],
   "source": [
    "d=input('Enter the start Date dd/mm/yyyy : ')\n",
    "n=input('Enter the end Date dd/mm/yyyy : ')\n",
    "search = (wf['arrival_date'] > pd.Timestamp(d)) & (wf['arrival_date'] <= pd.Timestamp(n))\n",
    "# wf.loc[search]    # for the whole columns.\n",
    "pwf=wf[['country_code','channel','no_Passengers']].loc[search]\n",
    "pwf"
   ]
  },
  {
   "cell_type": "markdown",
   "metadata": {
    "slideshow": {
     "slide_type": "slide"
    },
    "tags": []
   },
   "source": [
    "---\n",
    "# Selection for provider (PMS), sales channel\n",
    "- Note: channel is assumed to be the provider (PMS)\n",
    "---"
   ]
  },
  {
   "cell_type": "markdown",
   "metadata": {
    "slideshow": {
     "slide_type": "subslide"
    },
    "tags": []
   },
   "source": [
    "- No of reservations per channel & nextpax_house_id"
   ]
  },
  {
   "cell_type": "code",
   "execution_count": 72,
   "metadata": {
    "slideshow": {
     "slide_type": "fragment"
    },
    "tags": []
   },
   "outputs": [
    {
     "data": {
      "text/html": [
       "<div>\n",
       "<style scoped>\n",
       "    .dataframe tbody tr th:only-of-type {\n",
       "        vertical-align: middle;\n",
       "    }\n",
       "\n",
       "    .dataframe tbody tr th {\n",
       "        vertical-align: top;\n",
       "    }\n",
       "\n",
       "    .dataframe thead th {\n",
       "        text-align: right;\n",
       "    }\n",
       "</style>\n",
       "<table border=\"1\" class=\"dataframe\">\n",
       "  <thead>\n",
       "    <tr style=\"text-align: right;\">\n",
       "      <th></th>\n",
       "      <th>nextpax_house_id</th>\n",
       "      <th>channel</th>\n",
       "      <th>Reservations_ch</th>\n",
       "    </tr>\n",
       "  </thead>\n",
       "  <tbody>\n",
       "    <tr>\n",
       "      <th>0</th>\n",
       "      <td>432</td>\n",
       "      <td>AIR298</td>\n",
       "      <td>3</td>\n",
       "    </tr>\n",
       "    <tr>\n",
       "      <th>1</th>\n",
       "      <td>436</td>\n",
       "      <td>AIR298</td>\n",
       "      <td>6</td>\n",
       "    </tr>\n",
       "    <tr>\n",
       "      <th>2</th>\n",
       "      <td>521</td>\n",
       "      <td>BOO142</td>\n",
       "      <td>15</td>\n",
       "    </tr>\n",
       "    <tr>\n",
       "      <th>3</th>\n",
       "      <td>581</td>\n",
       "      <td>BOO142</td>\n",
       "      <td>30</td>\n",
       "    </tr>\n",
       "    <tr>\n",
       "      <th>4</th>\n",
       "      <td>581</td>\n",
       "      <td>HOM143</td>\n",
       "      <td>1</td>\n",
       "    </tr>\n",
       "    <tr>\n",
       "      <th>...</th>\n",
       "      <td>...</td>\n",
       "      <td>...</td>\n",
       "      <td>...</td>\n",
       "    </tr>\n",
       "    <tr>\n",
       "      <th>107221</th>\n",
       "      <td>640987212</td>\n",
       "      <td>CTR342</td>\n",
       "      <td>1</td>\n",
       "    </tr>\n",
       "    <tr>\n",
       "      <th>107222</th>\n",
       "      <td>640987229</td>\n",
       "      <td>CTR342</td>\n",
       "      <td>1</td>\n",
       "    </tr>\n",
       "    <tr>\n",
       "      <th>107223</th>\n",
       "      <td>640989624</td>\n",
       "      <td>CTR342</td>\n",
       "      <td>1</td>\n",
       "    </tr>\n",
       "    <tr>\n",
       "      <th>107224</th>\n",
       "      <td>640990025</td>\n",
       "      <td>GOO328</td>\n",
       "      <td>1</td>\n",
       "    </tr>\n",
       "    <tr>\n",
       "      <th>107225</th>\n",
       "      <td>640996064</td>\n",
       "      <td>CTR342</td>\n",
       "      <td>1</td>\n",
       "    </tr>\n",
       "  </tbody>\n",
       "</table>\n",
       "<p>107226 rows × 3 columns</p>\n",
       "</div>"
      ],
      "text/plain": [
       "        nextpax_house_id channel  Reservations_ch\n",
       "0                    432  AIR298                3\n",
       "1                    436  AIR298                6\n",
       "2                    521  BOO142               15\n",
       "3                    581  BOO142               30\n",
       "4                    581  HOM143                1\n",
       "...                  ...     ...              ...\n",
       "107221         640987212  CTR342                1\n",
       "107222         640987229  CTR342                1\n",
       "107223         640989624  CTR342                1\n",
       "107224         640990025  GOO328                1\n",
       "107225         640996064  CTR342                1\n",
       "\n",
       "[107226 rows x 3 columns]"
      ]
     },
     "execution_count": 72,
     "metadata": {},
     "output_type": "execute_result"
    }
   ],
   "source": [
    "pms=wf.groupby(['nextpax_house_id'])['channel'].value_counts().reset_index(name=\"Reservations_ch\")\n",
    "pms"
   ]
  },
  {
   "cell_type": "markdown",
   "metadata": {
    "slideshow": {
     "slide_type": "slide"
    },
    "tags": []
   },
   "source": [
    "---\n",
    "# Totals of gross revenue for every selection / filter\n",
    "---"
   ]
  },
  {
   "cell_type": "markdown",
   "metadata": {
    "slideshow": {
     "slide_type": "subslide"
    },
    "tags": []
   },
   "source": [
    "- Total Revenue in Euro"
   ]
  },
  {
   "cell_type": "code",
   "execution_count": 73,
   "metadata": {
    "slideshow": {
     "slide_type": "skip"
    },
    "tags": []
   },
   "outputs": [],
   "source": [
    "# wf['rent_only in EUR'].sum()"
   ]
  },
  {
   "cell_type": "code",
   "execution_count": 74,
   "metadata": {
    "slideshow": {
     "slide_type": "skip"
    },
    "tags": []
   },
   "outputs": [],
   "source": [
    "# round(rev_ch.revenue.sum(), 2)"
   ]
  },
  {
   "cell_type": "code",
   "execution_count": 75,
   "metadata": {
    "slideshow": {
     "slide_type": "skip"
    },
    "tags": []
   },
   "outputs": [],
   "source": [
    "# wf['rent_only'].sum()"
   ]
  },
  {
   "cell_type": "code",
   "execution_count": 76,
   "metadata": {},
   "outputs": [
    {
     "data": {
      "text/plain": [
       "350084955.87"
      ]
     },
     "execution_count": 76,
     "metadata": {},
     "output_type": "execute_result"
    }
   ],
   "source": [
    "round(wf['rent_only in EUR'].sum(), 2)"
   ]
  },
  {
   "cell_type": "markdown",
   "metadata": {
    "slideshow": {
     "slide_type": "subslide"
    },
    "tags": []
   },
   "source": [
    "- Revenue per *channel* for each year"
   ]
  },
  {
   "cell_type": "code",
   "execution_count": 77,
   "metadata": {
    "slideshow": {
     "slide_type": "fragment"
    },
    "tags": []
   },
   "outputs": [
    {
     "data": {
      "text/html": [
       "<div>\n",
       "<style scoped>\n",
       "    .dataframe tbody tr th:only-of-type {\n",
       "        vertical-align: middle;\n",
       "    }\n",
       "\n",
       "    .dataframe tbody tr th {\n",
       "        vertical-align: top;\n",
       "    }\n",
       "\n",
       "    .dataframe thead th {\n",
       "        text-align: right;\n",
       "    }\n",
       "</style>\n",
       "<table border=\"1\" class=\"dataframe\">\n",
       "  <thead>\n",
       "    <tr style=\"text-align: right;\">\n",
       "      <th></th>\n",
       "      <th>channel</th>\n",
       "      <th>year</th>\n",
       "      <th>revenue_ch</th>\n",
       "    </tr>\n",
       "  </thead>\n",
       "  <tbody>\n",
       "    <tr>\n",
       "      <th>19</th>\n",
       "      <td>BOO142</td>\n",
       "      <td>2020</td>\n",
       "      <td>76,975,095.63</td>\n",
       "    </tr>\n",
       "    <tr>\n",
       "      <th>62</th>\n",
       "      <td>HOM143</td>\n",
       "      <td>2021</td>\n",
       "      <td>75,076,661.04</td>\n",
       "    </tr>\n",
       "    <tr>\n",
       "      <th>61</th>\n",
       "      <td>HOM143</td>\n",
       "      <td>2020</td>\n",
       "      <td>64,581,135.53</td>\n",
       "    </tr>\n",
       "    <tr>\n",
       "      <th>20</th>\n",
       "      <td>BOO142</td>\n",
       "      <td>2021</td>\n",
       "      <td>45,121,611.94</td>\n",
       "    </tr>\n",
       "    <tr>\n",
       "      <th>5</th>\n",
       "      <td>AIR298</td>\n",
       "      <td>2021</td>\n",
       "      <td>25,660,313.85</td>\n",
       "    </tr>\n",
       "    <tr>\n",
       "      <th>...</th>\n",
       "      <td>...</td>\n",
       "      <td>...</td>\n",
       "      <td>...</td>\n",
       "    </tr>\n",
       "    <tr>\n",
       "      <th>109</th>\n",
       "      <td>TRE327</td>\n",
       "      <td>2022</td>\n",
       "      <td>330.00</td>\n",
       "    </tr>\n",
       "    <tr>\n",
       "      <th>102</th>\n",
       "      <td>TRA277</td>\n",
       "      <td>2020</td>\n",
       "      <td>296.38</td>\n",
       "    </tr>\n",
       "    <tr>\n",
       "      <th>37</th>\n",
       "      <td>CTR342</td>\n",
       "      <td>2022</td>\n",
       "      <td>164.18</td>\n",
       "    </tr>\n",
       "    <tr>\n",
       "      <th>23</th>\n",
       "      <td>BOO142</td>\n",
       "      <td>2026</td>\n",
       "      <td>0.00</td>\n",
       "    </tr>\n",
       "    <tr>\n",
       "      <th>0</th>\n",
       "      <td>ADR331</td>\n",
       "      <td>2020</td>\n",
       "      <td>0.00</td>\n",
       "    </tr>\n",
       "  </tbody>\n",
       "</table>\n",
       "<p>128 rows × 3 columns</p>\n",
       "</div>"
      ],
      "text/plain": [
       "    channel  year    revenue_ch\n",
       "19   BOO142  2020 76,975,095.63\n",
       "62   HOM143  2021 75,076,661.04\n",
       "61   HOM143  2020 64,581,135.53\n",
       "20   BOO142  2021 45,121,611.94\n",
       "5    AIR298  2021 25,660,313.85\n",
       "..      ...   ...           ...\n",
       "109  TRE327  2022        330.00\n",
       "102  TRA277  2020        296.38\n",
       "37   CTR342  2022        164.18\n",
       "23   BOO142  2026          0.00\n",
       "0    ADR331  2020          0.00\n",
       "\n",
       "[128 rows x 3 columns]"
      ]
     },
     "execution_count": 77,
     "metadata": {},
     "output_type": "execute_result"
    }
   ],
   "source": [
    "rev_ch = wf.groupby(['channel','year'])['rent_only in EUR'].sum().reset_index(name=\"revenue_ch\").sort_values(by=['revenue_ch'],ascending=False)\n",
    "rev_ch"
   ]
  },
  {
   "cell_type": "markdown",
   "metadata": {
    "slideshow": {
     "slide_type": "subslide"
    },
    "tags": []
   },
   "source": [
    "- Revenue per *channel* for each year"
   ]
  },
  {
   "cell_type": "code",
   "execution_count": 78,
   "metadata": {
    "tags": []
   },
   "outputs": [
    {
     "data": {
      "text/html": [
       "<div>\n",
       "<style scoped>\n",
       "    .dataframe tbody tr th:only-of-type {\n",
       "        vertical-align: middle;\n",
       "    }\n",
       "\n",
       "    .dataframe tbody tr th {\n",
       "        vertical-align: top;\n",
       "    }\n",
       "\n",
       "    .dataframe thead th {\n",
       "        text-align: right;\n",
       "    }\n",
       "</style>\n",
       "<table border=\"1\" class=\"dataframe\">\n",
       "  <thead>\n",
       "    <tr style=\"text-align: right;\">\n",
       "      <th>year</th>\n",
       "      <th>2020</th>\n",
       "      <th>2021</th>\n",
       "      <th>2022</th>\n",
       "      <th>2023</th>\n",
       "      <th>2024</th>\n",
       "      <th>2025</th>\n",
       "      <th>2026</th>\n",
       "      <th>rev_sum_ch</th>\n",
       "    </tr>\n",
       "    <tr>\n",
       "      <th>channel</th>\n",
       "      <th></th>\n",
       "      <th></th>\n",
       "      <th></th>\n",
       "      <th></th>\n",
       "      <th></th>\n",
       "      <th></th>\n",
       "      <th></th>\n",
       "      <th></th>\n",
       "    </tr>\n",
       "  </thead>\n",
       "  <tbody>\n",
       "    <tr>\n",
       "      <th>BOO142</th>\n",
       "      <td>76,975,095.63</td>\n",
       "      <td>45,121,611.94</td>\n",
       "      <td>2,457,221.41</td>\n",
       "      <td>399.37</td>\n",
       "      <td>0</td>\n",
       "      <td>0</td>\n",
       "      <td>0.00</td>\n",
       "      <td>124,554,328.34</td>\n",
       "    </tr>\n",
       "    <tr>\n",
       "      <th>HOM143</th>\n",
       "      <td>64,581,135.53</td>\n",
       "      <td>75,076,661.04</td>\n",
       "      <td>9,176,195.57</td>\n",
       "      <td>12,137.41</td>\n",
       "      <td>1,454.34</td>\n",
       "      <td>2,340.98</td>\n",
       "      <td>0</td>\n",
       "      <td>148,849,924.88</td>\n",
       "    </tr>\n",
       "    <tr>\n",
       "      <th>AIR298</th>\n",
       "      <td>16,320,950.16</td>\n",
       "      <td>25,660,313.85</td>\n",
       "      <td>882,751.94</td>\n",
       "      <td>0</td>\n",
       "      <td>0</td>\n",
       "      <td>0</td>\n",
       "      <td>0</td>\n",
       "      <td>42,864,015.95</td>\n",
       "    </tr>\n",
       "    <tr>\n",
       "      <th>HOT138</th>\n",
       "      <td>4,558,479.28</td>\n",
       "      <td>5,937,889.26</td>\n",
       "      <td>72,868.67</td>\n",
       "      <td>0</td>\n",
       "      <td>0</td>\n",
       "      <td>0</td>\n",
       "      <td>0</td>\n",
       "      <td>10,569,237.21</td>\n",
       "    </tr>\n",
       "    <tr>\n",
       "      <th>HOO135</th>\n",
       "      <td>2,714,131.40</td>\n",
       "      <td>132,796.59</td>\n",
       "      <td>0</td>\n",
       "      <td>0</td>\n",
       "      <td>0</td>\n",
       "      <td>0</td>\n",
       "      <td>0</td>\n",
       "      <td>2,846,927.99</td>\n",
       "    </tr>\n",
       "    <tr>\n",
       "      <th>...</th>\n",
       "      <td>...</td>\n",
       "      <td>...</td>\n",
       "      <td>...</td>\n",
       "      <td>...</td>\n",
       "      <td>...</td>\n",
       "      <td>...</td>\n",
       "      <td>...</td>\n",
       "      <td>...</td>\n",
       "    </tr>\n",
       "    <tr>\n",
       "      <th>TRA368</th>\n",
       "      <td>0</td>\n",
       "      <td>603.85</td>\n",
       "      <td>961.78</td>\n",
       "      <td>0</td>\n",
       "      <td>0</td>\n",
       "      <td>0</td>\n",
       "      <td>0</td>\n",
       "      <td>1,565.63</td>\n",
       "    </tr>\n",
       "    <tr>\n",
       "      <th>URB386</th>\n",
       "      <td>0</td>\n",
       "      <td>14,423.52</td>\n",
       "      <td>8,675.60</td>\n",
       "      <td>0</td>\n",
       "      <td>0</td>\n",
       "      <td>0</td>\n",
       "      <td>0</td>\n",
       "      <td>23,099.12</td>\n",
       "    </tr>\n",
       "    <tr>\n",
       "      <th>VAC372</th>\n",
       "      <td>0</td>\n",
       "      <td>10,616.62</td>\n",
       "      <td>0</td>\n",
       "      <td>0</td>\n",
       "      <td>0</td>\n",
       "      <td>0</td>\n",
       "      <td>0</td>\n",
       "      <td>10,616.62</td>\n",
       "    </tr>\n",
       "    <tr>\n",
       "      <th>WIN338</th>\n",
       "      <td>0</td>\n",
       "      <td>1,747.06</td>\n",
       "      <td>8,677.51</td>\n",
       "      <td>0</td>\n",
       "      <td>0</td>\n",
       "      <td>0</td>\n",
       "      <td>0</td>\n",
       "      <td>10,424.57</td>\n",
       "    </tr>\n",
       "    <tr>\n",
       "      <th>YON371</th>\n",
       "      <td>0</td>\n",
       "      <td>2,613.56</td>\n",
       "      <td>0</td>\n",
       "      <td>0</td>\n",
       "      <td>0</td>\n",
       "      <td>0</td>\n",
       "      <td>0</td>\n",
       "      <td>2,613.56</td>\n",
       "    </tr>\n",
       "  </tbody>\n",
       "</table>\n",
       "<p>61 rows × 8 columns</p>\n",
       "</div>"
      ],
      "text/plain": [
       "year             2020          2021         2022      2023     2024     2025  \\\n",
       "channel                                                                        \n",
       "BOO142  76,975,095.63 45,121,611.94 2,457,221.41    399.37        0        0   \n",
       "HOM143  64,581,135.53 75,076,661.04 9,176,195.57 12,137.41 1,454.34 2,340.98   \n",
       "AIR298  16,320,950.16 25,660,313.85   882,751.94         0        0        0   \n",
       "HOT138   4,558,479.28  5,937,889.26    72,868.67         0        0        0   \n",
       "HOO135   2,714,131.40    132,796.59            0         0        0        0   \n",
       "...               ...           ...          ...       ...      ...      ...   \n",
       "TRA368              0        603.85       961.78         0        0        0   \n",
       "URB386              0     14,423.52     8,675.60         0        0        0   \n",
       "VAC372              0     10,616.62            0         0        0        0   \n",
       "WIN338              0      1,747.06     8,677.51         0        0        0   \n",
       "YON371              0      2,613.56            0         0        0        0   \n",
       "\n",
       "year    2026     rev_sum_ch  \n",
       "channel                      \n",
       "BOO142  0.00 124,554,328.34  \n",
       "HOM143     0 148,849,924.88  \n",
       "AIR298     0  42,864,015.95  \n",
       "HOT138     0  10,569,237.21  \n",
       "HOO135     0   2,846,927.99  \n",
       "...      ...            ...  \n",
       "TRA368     0       1,565.63  \n",
       "URB386     0      23,099.12  \n",
       "VAC372     0      10,616.62  \n",
       "WIN338     0      10,424.57  \n",
       "YON371     0       2,613.56  \n",
       "\n",
       "[61 rows x 8 columns]"
      ]
     },
     "execution_count": 78,
     "metadata": {},
     "output_type": "execute_result"
    }
   ],
   "source": [
    "rev_ch_all=rev_ch.pivot_table(values='revenue_ch', \n",
    "                      index=rev_ch.channel, columns='year', \n",
    "                      aggfunc='first').sort_values(by=['2020'],ascending=False)\n",
    "rev_ch_all['rev_sum_ch']=rev_ch_all.sum(axis=1)\n",
    "\n",
    "rev_ch_all = rev_ch_all.astype(object).where(pd.notnull(rev_ch_all),0)\n",
    "rev_ch_all.sort_values(by=['rev_sum_ch'],ascending=False)\n",
    "rev_ch_all"
   ]
  },
  {
   "cell_type": "markdown",
   "metadata": {
    "slideshow": {
     "slide_type": "subslide"
    },
    "tags": []
   },
   "source": [
    "- Revenue per top 10 channel *for 2020, 2021 & 2022*"
   ]
  },
  {
   "cell_type": "code",
   "execution_count": 79,
   "metadata": {
    "tags": []
   },
   "outputs": [
    {
     "data": {
      "text/plain": [
       "<AxesSubplot:xlabel='channel'>"
      ]
     },
     "execution_count": 79,
     "metadata": {},
     "output_type": "execute_result"
    },
    {
     "data": {
      "image/png": "[encoded data removed]",
      "text/plain": [
       "<Figure size 1080x720 with 1 Axes>"
      ]
     },
     "metadata": {
      "needs_background": "light"
     },
     "output_type": "display_data"
    }
   ],
   "source": [
    "rev_ch_all.head(10).plot.bar(figsize=(15,10))"
   ]
  },
  {
   "cell_type": "code",
   "execution_count": 80,
   "metadata": {
    "slideshow": {
     "slide_type": "skip"
    },
    "tags": []
   },
   "outputs": [],
   "source": [
    "# - Revenue per *to 10 channel_id* for 2020, 2021 & 2022 *without outlies*"
   ]
  },
  {
   "cell_type": "code",
   "execution_count": 81,
   "metadata": {
    "slideshow": {
     "slide_type": "skip"
    },
    "tags": []
   },
   "outputs": [],
   "source": [
    "# rev_ch_all[['2020','2021','2022']][rev_ch_all.index !='BOO142'].head(10).plot.bar(figsize=(15,10))"
   ]
  },
  {
   "cell_type": "code",
   "execution_count": 82,
   "metadata": {
    "slideshow": {
     "slide_type": "skip"
    },
    "tags": []
   },
   "outputs": [],
   "source": [
    "#- Revenue per to 10 channel_id for *all years* *without outlies*"
   ]
  },
  {
   "cell_type": "code",
   "execution_count": 83,
   "metadata": {
    "slideshow": {
     "slide_type": "skip"
    },
    "tags": []
   },
   "outputs": [],
   "source": [
    "# rev_ch_all[rev_ch_all.index !='BOO142'].head(10).plot.bar(figsize=(15,10))"
   ]
  },
  {
   "cell_type": "markdown",
   "metadata": {
    "slideshow": {
     "slide_type": "subslide"
    },
    "tags": []
   },
   "source": [
    "- Mean Revenue per year based on channel"
   ]
  },
  {
   "cell_type": "code",
   "execution_count": 84,
   "metadata": {
    "tags": []
   },
   "outputs": [
    {
     "data": {
      "text/plain": [
       "<AxesSubplot:xlabel='year'>"
      ]
     },
     "execution_count": 84,
     "metadata": {},
     "output_type": "execute_result"
    },
    {
     "data": {
      "image/png": "[encoded data removed]",
      "text/plain": [
       "<Figure size 1080x720 with 1 Axes>"
      ]
     },
     "metadata": {
      "needs_background": "light"
     },
     "output_type": "display_data"
    }
   ],
   "source": [
    "rev_ch_all.mean().plot(kind=\"bar\",figsize=(15,10))"
   ]
  },
  {
   "cell_type": "markdown",
   "metadata": {
    "slideshow": {
     "slide_type": "subslide"
    },
    "tags": []
   },
   "source": [
    "<!-- - comparison of Revenues for top 10 per 2020, 2021, & 2022 *without outliers* -->"
   ]
  },
  {
   "cell_type": "code",
   "execution_count": 85,
   "metadata": {
    "slideshow": {
     "slide_type": "skip"
    },
    "tags": []
   },
   "outputs": [],
   "source": [
    "# rev_ch_all[['2020','2021','2022']][rev_ch_all.index !='BOO142'].head(10).plot(kind = 'line',figsize=(15,10))"
   ]
  },
  {
   "cell_type": "markdown",
   "metadata": {
    "slideshow": {
     "slide_type": "subslide"
    },
    "tags": []
   },
   "source": [
    "- General discription of the Revenue per *channel*\n",
    "    - The *describe()* function computes a summary of statistics pertaining to the DataFrame columns."
   ]
  },
  {
   "cell_type": "markdown",
   "metadata": {
    "slideshow": {
     "slide_type": "fragment"
    },
    "tags": []
   },
   "source": [
    "- General discription of the Revenue per *channel* for all years"
   ]
  },
  {
   "cell_type": "code",
   "execution_count": 86,
   "metadata": {
    "tags": []
   },
   "outputs": [
    {
     "data": {
      "text/html": [
       "<div>\n",
       "<style scoped>\n",
       "    .dataframe tbody tr th:only-of-type {\n",
       "        vertical-align: middle;\n",
       "    }\n",
       "\n",
       "    .dataframe tbody tr th {\n",
       "        vertical-align: top;\n",
       "    }\n",
       "\n",
       "    .dataframe thead th {\n",
       "        text-align: right;\n",
       "    }\n",
       "</style>\n",
       "<table border=\"1\" class=\"dataframe\">\n",
       "  <thead>\n",
       "    <tr style=\"text-align: right;\">\n",
       "      <th></th>\n",
       "      <th>revenue_ch</th>\n",
       "    </tr>\n",
       "  </thead>\n",
       "  <tbody>\n",
       "    <tr>\n",
       "      <th>count</th>\n",
       "      <td>128.00</td>\n",
       "    </tr>\n",
       "    <tr>\n",
       "      <th>mean</th>\n",
       "      <td>2,735,038.72</td>\n",
       "    </tr>\n",
       "    <tr>\n",
       "      <th>std</th>\n",
       "      <td>11,876,393.09</td>\n",
       "    </tr>\n",
       "    <tr>\n",
       "      <th>min</th>\n",
       "      <td>0.00</td>\n",
       "    </tr>\n",
       "    <tr>\n",
       "      <th>25%</th>\n",
       "      <td>3,059.34</td>\n",
       "    </tr>\n",
       "    <tr>\n",
       "      <th>50%</th>\n",
       "      <td>24,781.78</td>\n",
       "    </tr>\n",
       "    <tr>\n",
       "      <th>75%</th>\n",
       "      <td>285,295.94</td>\n",
       "    </tr>\n",
       "    <tr>\n",
       "      <th>max</th>\n",
       "      <td>76,975,095.63</td>\n",
       "    </tr>\n",
       "  </tbody>\n",
       "</table>\n",
       "</div>"
      ],
      "text/plain": [
       "         revenue_ch\n",
       "count        128.00\n",
       "mean   2,735,038.72\n",
       "std   11,876,393.09\n",
       "min            0.00\n",
       "25%        3,059.34\n",
       "50%       24,781.78\n",
       "75%      285,295.94\n",
       "max   76,975,095.63"
      ]
     },
     "execution_count": 86,
     "metadata": {},
     "output_type": "execute_result"
    }
   ],
   "source": [
    "rev_ch.describe()"
   ]
  },
  {
   "cell_type": "code",
   "execution_count": 87,
   "metadata": {},
   "outputs": [
    {
     "data": {
      "text/plain": [
       "<AxesSubplot:>"
      ]
     },
     "execution_count": 87,
     "metadata": {},
     "output_type": "execute_result"
    },
    {
     "data": {
      "image/png": "[encoded data removed]",
      "text/plain": [
       "<Figure size 1080x720 with 1 Axes>"
      ]
     },
     "metadata": {
      "needs_background": "light"
     },
     "output_type": "display_data"
    }
   ],
   "source": [
    "rev_ch.describe().plot(figsize=(15,10),kind='bar')"
   ]
  },
  {
   "cell_type": "markdown",
   "metadata": {
    "slideshow": {
     "slide_type": "fragment"
    },
    "tags": []
   },
   "source": [
    "- General discription of the Revenue per *channel* for each year"
   ]
  },
  {
   "cell_type": "code",
   "execution_count": 88,
   "metadata": {
    "slideshow": {
     "slide_type": "skip"
    },
    "tags": []
   },
   "outputs": [],
   "source": [
    "# rev_ch_all.describe()"
   ]
  },
  {
   "cell_type": "code",
   "execution_count": 89,
   "metadata": {
    "slideshow": {
     "slide_type": "skip"
    },
    "tags": []
   },
   "outputs": [],
   "source": [
    "# rev_ch_all.describe().plot(figsize=(15,10),kind='bar')"
   ]
  },
  {
   "cell_type": "markdown",
   "metadata": {
    "slideshow": {
     "slide_type": "subslide"
    },
    "tags": []
   },
   "source": [
    "- Revenue per *Country* for each year"
   ]
  },
  {
   "cell_type": "code",
   "execution_count": 90,
   "metadata": {
    "slideshow": {
     "slide_type": "fragment"
    },
    "tags": []
   },
   "outputs": [
    {
     "data": {
      "text/html": [
       "<div>\n",
       "<style scoped>\n",
       "    .dataframe tbody tr th:only-of-type {\n",
       "        vertical-align: middle;\n",
       "    }\n",
       "\n",
       "    .dataframe tbody tr th {\n",
       "        vertical-align: top;\n",
       "    }\n",
       "\n",
       "    .dataframe thead th {\n",
       "        text-align: right;\n",
       "    }\n",
       "</style>\n",
       "<table border=\"1\" class=\"dataframe\">\n",
       "  <thead>\n",
       "    <tr style=\"text-align: right;\">\n",
       "      <th></th>\n",
       "      <th>country_code</th>\n",
       "      <th>year</th>\n",
       "      <th>revenue_con</th>\n",
       "    </tr>\n",
       "  </thead>\n",
       "  <tbody>\n",
       "    <tr>\n",
       "      <th>22</th>\n",
       "      <td>AU</td>\n",
       "      <td>2020</td>\n",
       "      <td>198,683,440.00</td>\n",
       "    </tr>\n",
       "    <tr>\n",
       "      <th>385</th>\n",
       "      <td>US</td>\n",
       "      <td>2020</td>\n",
       "      <td>120,512,712.00</td>\n",
       "    </tr>\n",
       "    <tr>\n",
       "      <th>386</th>\n",
       "      <td>US</td>\n",
       "      <td>2021</td>\n",
       "      <td>92,238,456.00</td>\n",
       "    </tr>\n",
       "    <tr>\n",
       "      <th>138</th>\n",
       "      <td>GB</td>\n",
       "      <td>2020</td>\n",
       "      <td>65,347,608.00</td>\n",
       "    </tr>\n",
       "    <tr>\n",
       "      <th>332</th>\n",
       "      <td>RU</td>\n",
       "      <td>2020</td>\n",
       "      <td>50,856,012.00</td>\n",
       "    </tr>\n",
       "    <tr>\n",
       "      <th>...</th>\n",
       "      <td>...</td>\n",
       "      <td>...</td>\n",
       "      <td>...</td>\n",
       "    </tr>\n",
       "    <tr>\n",
       "      <th>303</th>\n",
       "      <td>PF</td>\n",
       "      <td>2020</td>\n",
       "      <td>92.00</td>\n",
       "    </tr>\n",
       "    <tr>\n",
       "      <th>173</th>\n",
       "      <td>HR</td>\n",
       "      <td>2022</td>\n",
       "      <td>79.00</td>\n",
       "    </tr>\n",
       "    <tr>\n",
       "      <th>151</th>\n",
       "      <td>GH</td>\n",
       "      <td>2021</td>\n",
       "      <td>77.00</td>\n",
       "    </tr>\n",
       "    <tr>\n",
       "      <th>63</th>\n",
       "      <td>BZ</td>\n",
       "      <td>2020</td>\n",
       "      <td>38.00</td>\n",
       "    </tr>\n",
       "    <tr>\n",
       "      <th>289</th>\n",
       "      <td>NL</td>\n",
       "      <td>2026</td>\n",
       "      <td>0.00</td>\n",
       "    </tr>\n",
       "  </tbody>\n",
       "</table>\n",
       "<p>417 rows × 3 columns</p>\n",
       "</div>"
      ],
      "text/plain": [
       "    country_code  year    revenue_con\n",
       "22            AU  2020 198,683,440.00\n",
       "385           US  2020 120,512,712.00\n",
       "386           US  2021  92,238,456.00\n",
       "138           GB  2020  65,347,608.00\n",
       "332           RU  2020  50,856,012.00\n",
       "..           ...   ...            ...\n",
       "303           PF  2020          92.00\n",
       "173           HR  2022          79.00\n",
       "151           GH  2021          77.00\n",
       "63            BZ  2020          38.00\n",
       "289           NL  2026           0.00\n",
       "\n",
       "[417 rows x 3 columns]"
      ]
     },
     "execution_count": 90,
     "metadata": {},
     "output_type": "execute_result"
    }
   ],
   "source": [
    "rev_count=wf.groupby(['country_code','year'])['rent_only'].sum().reset_index(name=\"revenue_con\").sort_values(by=['revenue_con'],ascending=False)\n",
    "rev_count"
   ]
  },
  {
   "cell_type": "code",
   "execution_count": 91,
   "metadata": {
    "slideshow": {
     "slide_type": "skip"
    },
    "tags": []
   },
   "outputs": [],
   "source": [
    "# rev_count.sort_values(by=['revenue'], ascending=False)"
   ]
  },
  {
   "cell_type": "markdown",
   "metadata": {
    "slideshow": {
     "slide_type": "subslide"
    },
    "tags": []
   },
   "source": [
    "- Revenue per *Country* for each year"
   ]
  },
  {
   "cell_type": "code",
   "execution_count": 92,
   "metadata": {
    "tags": []
   },
   "outputs": [
    {
     "data": {
      "text/html": [
       "<div>\n",
       "<style scoped>\n",
       "    .dataframe tbody tr th:only-of-type {\n",
       "        vertical-align: middle;\n",
       "    }\n",
       "\n",
       "    .dataframe tbody tr th {\n",
       "        vertical-align: top;\n",
       "    }\n",
       "\n",
       "    .dataframe thead th {\n",
       "        text-align: right;\n",
       "    }\n",
       "</style>\n",
       "<table border=\"1\" class=\"dataframe\">\n",
       "  <thead>\n",
       "    <tr style=\"text-align: right;\">\n",
       "      <th>year</th>\n",
       "      <th>2020</th>\n",
       "      <th>2021</th>\n",
       "      <th>2022</th>\n",
       "      <th>2023</th>\n",
       "      <th>2024</th>\n",
       "      <th>2025</th>\n",
       "      <th>2026</th>\n",
       "      <th>rev_sum_count</th>\n",
       "    </tr>\n",
       "    <tr>\n",
       "      <th>country_code</th>\n",
       "      <th></th>\n",
       "      <th></th>\n",
       "      <th></th>\n",
       "      <th></th>\n",
       "      <th></th>\n",
       "      <th></th>\n",
       "      <th></th>\n",
       "      <th></th>\n",
       "    </tr>\n",
       "  </thead>\n",
       "  <tbody>\n",
       "    <tr>\n",
       "      <th>US</th>\n",
       "      <td>120,512,712.00</td>\n",
       "      <td>92,238,456.00</td>\n",
       "      <td>10,567,533.00</td>\n",
       "      <td>14,663.02</td>\n",
       "      <td>1,701.00</td>\n",
       "      <td>2,738.01</td>\n",
       "      <td>0</td>\n",
       "      <td>223,337,803.03</td>\n",
       "    </tr>\n",
       "    <tr>\n",
       "      <th>AU</th>\n",
       "      <td>198,683,440.00</td>\n",
       "      <td>142,938.02</td>\n",
       "      <td>13,164.00</td>\n",
       "      <td>0</td>\n",
       "      <td>0</td>\n",
       "      <td>0</td>\n",
       "      <td>0</td>\n",
       "      <td>198,839,542.02</td>\n",
       "    </tr>\n",
       "    <tr>\n",
       "      <th>GB</th>\n",
       "      <td>65,347,608.00</td>\n",
       "      <td>10,960,174.00</td>\n",
       "      <td>2,022,490.25</td>\n",
       "      <td>0</td>\n",
       "      <td>0</td>\n",
       "      <td>0</td>\n",
       "      <td>0</td>\n",
       "      <td>78,330,272.25</td>\n",
       "    </tr>\n",
       "    <tr>\n",
       "      <th>RU</th>\n",
       "      <td>50,856,012.00</td>\n",
       "      <td>344,390.81</td>\n",
       "      <td>15,336.01</td>\n",
       "      <td>0</td>\n",
       "      <td>0</td>\n",
       "      <td>0</td>\n",
       "      <td>0</td>\n",
       "      <td>51,215,738.82</td>\n",
       "    </tr>\n",
       "    <tr>\n",
       "      <th>DE</th>\n",
       "      <td>27,427,628.00</td>\n",
       "      <td>20,818,742.00</td>\n",
       "      <td>1,268,654.75</td>\n",
       "      <td>0</td>\n",
       "      <td>0</td>\n",
       "      <td>0</td>\n",
       "      <td>0</td>\n",
       "      <td>49,515,024.75</td>\n",
       "    </tr>\n",
       "    <tr>\n",
       "      <th>...</th>\n",
       "      <td>...</td>\n",
       "      <td>...</td>\n",
       "      <td>...</td>\n",
       "      <td>...</td>\n",
       "      <td>...</td>\n",
       "      <td>...</td>\n",
       "      <td>...</td>\n",
       "      <td>...</td>\n",
       "    </tr>\n",
       "    <tr>\n",
       "      <th>VC</th>\n",
       "      <td>0</td>\n",
       "      <td>217.80</td>\n",
       "      <td>0</td>\n",
       "      <td>0</td>\n",
       "      <td>0</td>\n",
       "      <td>0</td>\n",
       "      <td>0</td>\n",
       "      <td>217.80</td>\n",
       "    </tr>\n",
       "    <tr>\n",
       "      <th>BI</th>\n",
       "      <td>0</td>\n",
       "      <td>188.00</td>\n",
       "      <td>0</td>\n",
       "      <td>0</td>\n",
       "      <td>0</td>\n",
       "      <td>0</td>\n",
       "      <td>0</td>\n",
       "      <td>188.00</td>\n",
       "    </tr>\n",
       "    <tr>\n",
       "      <th>BF</th>\n",
       "      <td>0</td>\n",
       "      <td>180.00</td>\n",
       "      <td>0</td>\n",
       "      <td>0</td>\n",
       "      <td>0</td>\n",
       "      <td>0</td>\n",
       "      <td>0</td>\n",
       "      <td>180.00</td>\n",
       "    </tr>\n",
       "    <tr>\n",
       "      <th>MR</th>\n",
       "      <td>0</td>\n",
       "      <td>120.00</td>\n",
       "      <td>0</td>\n",
       "      <td>0</td>\n",
       "      <td>0</td>\n",
       "      <td>0</td>\n",
       "      <td>0</td>\n",
       "      <td>120.00</td>\n",
       "    </tr>\n",
       "    <tr>\n",
       "      <th>BQ</th>\n",
       "      <td>0</td>\n",
       "      <td>113.40</td>\n",
       "      <td>0</td>\n",
       "      <td>0</td>\n",
       "      <td>0</td>\n",
       "      <td>0</td>\n",
       "      <td>0</td>\n",
       "      <td>113.40</td>\n",
       "    </tr>\n",
       "  </tbody>\n",
       "</table>\n",
       "<p>202 rows × 8 columns</p>\n",
       "</div>"
      ],
      "text/plain": [
       "year                   2020          2021          2022      2023     2024  \\\n",
       "country_code                                                                 \n",
       "US           120,512,712.00 92,238,456.00 10,567,533.00 14,663.02 1,701.00   \n",
       "AU           198,683,440.00    142,938.02     13,164.00         0        0   \n",
       "GB            65,347,608.00 10,960,174.00  2,022,490.25         0        0   \n",
       "RU            50,856,012.00    344,390.81     15,336.01         0        0   \n",
       "DE            27,427,628.00 20,818,742.00  1,268,654.75         0        0   \n",
       "...                     ...           ...           ...       ...      ...   \n",
       "VC                        0        217.80             0         0        0   \n",
       "BI                        0        188.00             0         0        0   \n",
       "BF                        0        180.00             0         0        0   \n",
       "MR                        0        120.00             0         0        0   \n",
       "BQ                        0        113.40             0         0        0   \n",
       "\n",
       "year             2025 2026  rev_sum_count  \n",
       "country_code                               \n",
       "US           2,738.01    0 223,337,803.03  \n",
       "AU                  0    0 198,839,542.02  \n",
       "GB                  0    0  78,330,272.25  \n",
       "RU                  0    0  51,215,738.82  \n",
       "DE                  0    0  49,515,024.75  \n",
       "...               ...  ...            ...  \n",
       "VC                  0    0         217.80  \n",
       "BI                  0    0         188.00  \n",
       "BF                  0    0         180.00  \n",
       "MR                  0    0         120.00  \n",
       "BQ                  0    0         113.40  \n",
       "\n",
       "[202 rows x 8 columns]"
      ]
     },
     "execution_count": 92,
     "metadata": {},
     "output_type": "execute_result"
    }
   ],
   "source": [
    "rev_count_all=rev_count.pivot_table(values='revenue_con', \n",
    "                      index=rev_count.country_code, columns='year', \n",
    "                      aggfunc='first')\n",
    "rev_count_all = rev_count_all.astype(object).where(pd.notnull(rev_count_all),0)\n",
    "\n",
    "rev_count_all['rev_sum_count']=rev_count_all.sum(axis=1)\n",
    "rev_count_all = rev_count_all.sort_values(by=['rev_sum_count'],ascending=False)\n",
    "rev_count_all"
   ]
  },
  {
   "cell_type": "code",
   "execution_count": 93,
   "metadata": {
    "slideshow": {
     "slide_type": "skip"
    },
    "tags": []
   },
   "outputs": [],
   "source": [
    "# x=rev_count_all.T.sum().reset_index(name='sumation').sort_values(by=['sumation'],ascending=False)\n",
    "# x"
   ]
  },
  {
   "cell_type": "code",
   "execution_count": 94,
   "metadata": {
    "slideshow": {
     "slide_type": "skip"
    },
    "tags": []
   },
   "outputs": [],
   "source": [
    "# rev_count_all.head(10).T.sum().plot.bar()"
   ]
  },
  {
   "cell_type": "markdown",
   "metadata": {
    "slideshow": {
     "slide_type": "subslide"
    },
    "tags": []
   },
   "source": [
    "- Revenue per *to 10 Countries* for 2020, 2021 & 2022"
   ]
  },
  {
   "cell_type": "code",
   "execution_count": 95,
   "metadata": {
    "tags": []
   },
   "outputs": [
    {
     "data": {
      "text/plain": [
       "<AxesSubplot:xlabel='country_code'>"
      ]
     },
     "execution_count": 95,
     "metadata": {},
     "output_type": "execute_result"
    },
    {
     "data": {
      "image/png": "[encoded data removed]",
      "text/plain": [
       "<Figure size 1080x720 with 1 Axes>"
      ]
     },
     "metadata": {
      "needs_background": "light"
     },
     "output_type": "display_data"
    }
   ],
   "source": [
    "rev_count_all.head(10).plot.bar(figsize=(15,10))"
   ]
  },
  {
   "cell_type": "markdown",
   "metadata": {
    "slideshow": {
     "slide_type": "subslide"
    },
    "tags": []
   },
   "source": [
    "- Mean Revenue per year based on *countries*"
   ]
  },
  {
   "cell_type": "code",
   "execution_count": 96,
   "metadata": {
    "tags": []
   },
   "outputs": [
    {
     "data": {
      "text/plain": [
       "<AxesSubplot:xlabel='year'>"
      ]
     },
     "execution_count": 96,
     "metadata": {},
     "output_type": "execute_result"
    },
    {
     "data": {
      "image/png": "[encoded data removed]",
      "text/plain": [
       "<Figure size 1080x720 with 1 Axes>"
      ]
     },
     "metadata": {
      "needs_background": "light"
     },
     "output_type": "display_data"
    }
   ],
   "source": [
    "rev_count_all.mean().plot(kind=\"bar\",figsize=(15,10))"
   ]
  },
  {
   "cell_type": "markdown",
   "metadata": {
    "slideshow": {
     "slide_type": "subslide"
    },
    "tags": []
   },
   "source": [
    "- comparison of Revenues for top 10 countries for 2020, 2021, & 2022 *without outliers*"
   ]
  },
  {
   "cell_type": "code",
   "execution_count": 97,
   "metadata": {
    "tags": []
   },
   "outputs": [
    {
     "data": {
      "text/plain": [
       "<AxesSubplot:xlabel='country_code'>"
      ]
     },
     "execution_count": 97,
     "metadata": {},
     "output_type": "execute_result"
    },
    {
     "data": {
      "image/png": "[encoded data removed]",
      "text/plain": [
       "<Figure size 1080x720 with 1 Axes>"
      ]
     },
     "metadata": {
      "needs_background": "light"
     },
     "output_type": "display_data"
    }
   ],
   "source": [
    "rev_count_all[['2020','2021','2022']].head().plot(kind = 'line',figsize=(15,10))"
   ]
  },
  {
   "cell_type": "markdown",
   "metadata": {
    "slideshow": {
     "slide_type": "subslide"
    },
    "tags": []
   },
   "source": [
    "- General discription of the Revenue per *country*\n",
    "    - The *describe()* function computes a summary of statistics pertaining to the DataFrame columns."
   ]
  },
  {
   "cell_type": "code",
   "execution_count": 98,
   "metadata": {},
   "outputs": [
    {
     "data": {
      "text/html": [
       "<div>\n",
       "<style scoped>\n",
       "    .dataframe tbody tr th:only-of-type {\n",
       "        vertical-align: middle;\n",
       "    }\n",
       "\n",
       "    .dataframe tbody tr th {\n",
       "        vertical-align: top;\n",
       "    }\n",
       "\n",
       "    .dataframe thead th {\n",
       "        text-align: right;\n",
       "    }\n",
       "</style>\n",
       "<table border=\"1\" class=\"dataframe\">\n",
       "  <thead>\n",
       "    <tr style=\"text-align: right;\">\n",
       "      <th></th>\n",
       "      <th>revenue_con</th>\n",
       "    </tr>\n",
       "  </thead>\n",
       "  <tbody>\n",
       "    <tr>\n",
       "      <th>count</th>\n",
       "      <td>417.00</td>\n",
       "    </tr>\n",
       "    <tr>\n",
       "      <th>mean</th>\n",
       "      <td>1,727,890.75</td>\n",
       "    </tr>\n",
       "    <tr>\n",
       "      <th>std</th>\n",
       "      <td>13,002,069.00</td>\n",
       "    </tr>\n",
       "    <tr>\n",
       "      <th>min</th>\n",
       "      <td>0.00</td>\n",
       "    </tr>\n",
       "    <tr>\n",
       "      <th>25%</th>\n",
       "      <td>1,138.00</td>\n",
       "    </tr>\n",
       "    <tr>\n",
       "      <th>50%</th>\n",
       "      <td>6,466.02</td>\n",
       "    </tr>\n",
       "    <tr>\n",
       "      <th>75%</th>\n",
       "      <td>53,132.37</td>\n",
       "    </tr>\n",
       "    <tr>\n",
       "      <th>max</th>\n",
       "      <td>198,683,440.00</td>\n",
       "    </tr>\n",
       "  </tbody>\n",
       "</table>\n",
       "</div>"
      ],
      "text/plain": [
       "         revenue_con\n",
       "count         417.00\n",
       "mean    1,727,890.75\n",
       "std    13,002,069.00\n",
       "min             0.00\n",
       "25%         1,138.00\n",
       "50%         6,466.02\n",
       "75%        53,132.37\n",
       "max   198,683,440.00"
      ]
     },
     "execution_count": 98,
     "metadata": {},
     "output_type": "execute_result"
    }
   ],
   "source": [
    "rev_count.describe()"
   ]
  },
  {
   "cell_type": "code",
   "execution_count": 99,
   "metadata": {},
   "outputs": [
    {
     "data": {
      "text/plain": [
       "<AxesSubplot:>"
      ]
     },
     "execution_count": 99,
     "metadata": {},
     "output_type": "execute_result"
    },
    {
     "data": {
      "image/png": "[encoded data removed]",
      "text/plain": [
       "<Figure size 1080x720 with 1 Axes>"
      ]
     },
     "metadata": {
      "needs_background": "light"
     },
     "output_type": "display_data"
    }
   ],
   "source": [
    "rev_count.describe().plot(kind='bar',figsize=(15,10))"
   ]
  },
  {
   "cell_type": "code",
   "execution_count": 100,
   "metadata": {
    "slideshow": {
     "slide_type": "skip"
    },
    "tags": []
   },
   "outputs": [],
   "source": [
    "# rev_count_all.describe()"
   ]
  },
  {
   "cell_type": "code",
   "execution_count": 101,
   "metadata": {
    "slideshow": {
     "slide_type": "skip"
    },
    "tags": []
   },
   "outputs": [],
   "source": [
    "# rev_count_all.describe().plot(kind='bar',figsize=(15,10))"
   ]
  },
  {
   "cell_type": "code",
   "execution_count": null,
   "metadata": {
    "slideshow": {
     "slide_type": "skip"
    },
    "tags": []
   },
   "outputs": [],
   "source": []
  },
  {
   "cell_type": "code",
   "execution_count": 102,
   "metadata": {
    "slideshow": {
     "slide_type": "skip"
    },
    "tags": []
   },
   "outputs": [],
   "source": [
    "# sns.boxplot(x=wf['rent_only'])"
   ]
  },
  {
   "cell_type": "code",
   "execution_count": 103,
   "metadata": {
    "slideshow": {
     "slide_type": "skip"
    },
    "tags": []
   },
   "outputs": [],
   "source": [
    "# import sys\n",
    "# print(sys.version)"
   ]
  },
  {
   "cell_type": "markdown",
   "metadata": {
    "slideshow": {
     "slide_type": "slide"
    },
    "tags": []
   },
   "source": [
    "# Thank you !\n",
    "- Yousef Qasem"
   ]
  }
 ],
 "metadata": {
  "kernelspec": {
   "display_name": "Python 3",
   "language": "python",
   "name": "python3"
  },
  "language_info": {
   "codemirror_mode": {
    "name": "ipython",
    "version": 3
   },
   "file_extension": ".py",
   "mimetype": "text/x-python",
   "name": "python",
   "nbconvert_exporter": "python",
   "pygments_lexer": "ipython3",
   "version": "3.8.8"
  },
  "toc-autonumbering": false,
  "toc-showcode": false,
  "toc-showmarkdowntxt": false,
  "toc-showtags": false
 },
 "nbformat": 4,
 "nbformat_minor": 4
}
